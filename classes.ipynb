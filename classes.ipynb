{
 "cells": [
  {
   "cell_type": "markdown",
   "metadata": {},
   "source": [
    "# Python Course on Classes and Functional Programming\n",
    "\n",
    "#### *J.A. Hernando, USC, 2016*\n",
    "\n",
    "## Class: the complex number"
   ]
  },
  {
   "cell_type": "code",
   "execution_count": 1,
   "metadata": {},
   "outputs": [
    {
     "name": "stdout",
     "output_type": "stream",
     "text": [
      " Last revision  Mon Oct 14 16:03:26 2019\n"
     ]
    }
   ],
   "source": [
    "import time\n",
    "print(' Last revision ', time.asctime())"
   ]
  },
  {
   "cell_type": "markdown",
   "metadata": {},
   "source": [
    "----\n",
    "## 1. Classes: A practical example, define a complex number.\n",
    "\n",
    "For pedagogic purposes we are going to code a complex number class, but instead of using as attributes the real and imaginary part we will use the module and the phase."
   ]
  },
  {
   "cell_type": "markdown",
   "metadata": {},
   "source": [
    "Before coding a class, we should identify the elements of the class: its **attributes** and its **methods**. \n",
    "\n",
    "For our complex number, the attribures are the module and the phase, while the operatios are the same that we have in the python builtin complex class: abs, add, subs, prod, conjugate, str, etc, with the adition of real and img methods.\n",
    "\n",
    "One very relevant method is the constructor. The constructor is the method that creates the object, that is, it sets its attributes. The construtor has the special method __init__ and to call a constructor we simply use a function that is the name of the class. \n",
    "In our case, the constructor will take the module and the phase of the complex number and create it.\n",
    "\n",
    "To distinguish our class from the python complex class, we will defined as *Complex*, with 'C' in uppercase. In doing so, we also follow the recomendations of pep8.\n"
   ]
  },
  {
   "cell_type": "markdown",
   "metadata": {},
   "source": [
    "### 1.1 The syntax for Class"
   ]
  },
  {
   "cell_type": "markdown",
   "metadata": {},
   "source": [
    "The following cell contains the partial definition of the *Complex* class:"
   ]
  },
  {
   "cell_type": "code",
   "execution_count": 2,
   "metadata": {},
   "outputs": [],
   "source": [
    "import math\n",
    "\n",
    "class Complex:\n",
    "    \"\"\" Complex number with module and phase as attributes\n",
    "    \"\"\"\n",
    "        \n",
    "    def __init__(self, mod, phase):\n",
    "        \"\"\" To construct a complex number from the module and the phase\n",
    "        \"\"\"\n",
    "        if (mod < 0): \n",
    "            raise TypeError('module must be zero or positive')\n",
    "        self.mod = mod\n",
    "        self.phase = phase\n",
    "        return\n",
    "    \n",
    "    def real(self):\n",
    "        \"\"\" return the real part\n",
    "        \"\"\"\n",
    "        real = self.mod*math.cos(self.phase)\n",
    "        return real\n",
    "    \n",
    "    def img(self):\n",
    "        \"\"\" return the imaginary part\n",
    "        \"\"\"\n",
    "        img = self.mod*math.sin(self.phase)\n",
    "        return img\n",
    "    \n",
    "    def __abs__(self):\n",
    "        \"\"\" return the module\n",
    "        \"\"\"\n",
    "        return self.mod\n",
    "    \n",
    "    def __add__(self, y):\n",
    "        \"\"\" add to complex numbers <=> x+y\n",
    "        \"\"\"\n",
    "        real = self.real() + y.real()\n",
    "        img = self.img() + y.img()\n",
    "        mod = math.sqrt(real*real + img*img)\n",
    "        phase = 0.\n",
    "        if (mod>0): \n",
    "            phase = math.acos(real/mod)\n",
    "        return Complex(mod,phase)\n",
    "    \n",
    "    def __prod__(self, y):\n",
    "        \"\"\" the product of two complex numbers: x*y\n",
    "        \"\"\"\n",
    "        mod = self.mod * y.mod\n",
    "        phase = self.phase + y.phase\n",
    "        return Complex(mod, phase)\n",
    "        \n",
    "    def conjugate(self):\n",
    "        \"\"\" complex conjugate\n",
    "        \"\"\"\n",
    "        return Complex(self.mod, -1.*self.phase)\n",
    "    \n",
    "    def __str__(self):\n",
    "        \"\"\" convert to a string\n",
    "        \"\"\"\n",
    "        s = str(self.mod)+'e^'+str(self.phase)\n",
    "        return s\n",
    "           "
   ]
  },
  {
   "cell_type": "markdown",
   "metadata": {},
   "source": [
    "The class syntax start with *class Name:*, in our case *def Complex:* and it follows the definition of the methods as indented functions. They are defined inside the *namespace* of the class *Complex*.\n",
    "\n",
    "The class and its methods are commented using the *\"\"\"comment\"\"\"* syntax just after the definition. The *help()* method will then use these comments to print the information when invoqued. \n",
    "\n",
    "Let's see the class definition with more detail now:\n"
   ]
  },
  {
   "cell_type": "markdown",
   "metadata": {},
   "source": [
    "### 1.2 The constructor "
   ]
  },
  {
   "cell_type": "markdown",
   "metadata": {},
   "source": [
    "The constructor is the __init()__ method. Here it takes three arguments, *mod* and *phase*, and sets them as attributes, via the assigment *'='* to the first argument **self**, that the variable that holds the object (we will see it later again). Therefore, *init()* sets the attributes of the object.\n",
    "\n",
    "To invoque *init()* we use the name of the class. We create object using *ClassName()*. Here is the example of how we create an instance of our *Complex* number."
   ]
  },
  {
   "cell_type": "code",
   "execution_count": 3,
   "metadata": {},
   "outputs": [
    {
     "data": {
      "text/plain": [
       "True"
      ]
     },
     "execution_count": 3,
     "metadata": {},
     "output_type": "execute_result"
    }
   ],
   "source": [
    "x = Complex(1,.0)\n",
    "isinstance(x, Complex)"
   ]
  },
  {
   "cell_type": "markdown",
   "metadata": {},
   "source": [
    "You should notice that we do not pass the first argument *self* to create the object! *self* here is a dummy argument. \n",
    "\n",
    "Doing *Complex()*, the compiler creates an object of type *Complex* and assigned to the variable *x*."
   ]
  },
  {
   "cell_type": "markdown",
   "metadata": {},
   "source": [
    "### 1.3 The self"
   ]
  },
  {
   "cell_type": "markdown",
   "metadata": {},
   "source": [
    "*self* is in fact the first argument of all the methods! As in the constructor, *self* is the variable associated to the object.\n",
    "\n",
    "Inside any method of the class, *self* is in fact the variable that holds the object. And to access its attributes or to apply any method we can just use the *'.'* operator onto *self*! \n",
    "\n",
    "Look now at the body of  the *prod()* method. It takes as first argument *self*, and second a variable *y*, that is expected to be also a *Complex* type. The method access the module and phase of the object *self* and the object *y*, using the *'.'* operator and make the product of the module and the sum of the phase, and it finally creates another object of *Complex* type and inmmediately returns it! \n",
    "\n",
    "Let's see now the following code:\n"
   ]
  },
  {
   "cell_type": "code",
   "execution_count": 5,
   "metadata": {},
   "outputs": [
    {
     "name": "stdout",
     "output_type": "stream",
     "text": [
      "x   =  1.0e^1.5707963267948966\n",
      "x^c =  1.0e^-1.5707963267948966\n",
      "x^c =  1.0e^-1.5707963267948966\n"
     ]
    }
   ],
   "source": [
    "x = Complex(1., math.pi/2.)\n",
    "print('x   = ', x)\n",
    "xc = Complex.conjugate(x)\n",
    "print('x^c = ', xc)\n",
    "xc = x.conjugate()\n",
    "print('x^c = ', xc)"
   ]
  },
  {
   "cell_type": "markdown",
   "metadata": {},
   "source": [
    "\n",
    "Notice that the statement *Complex.conjugate(x)*, is like here a funtion *conjungate()* defined in a namespace *Complex* applied to an argument *x*, of type *Complex*. Looking at the class as a namespace and the methods as functions inside the namespace, the argument *self* makes now more sense! It is the argument of the function!\n",
    "\n",
    "To apply a method into an object, we can either do *Class.method(object)* or *object.method()* both statements are equivalent. We can either do: *x.conjugate()*, if *x* is an instance of Complex, or do *Complex.conjugate(x)*! But the OO programming prefers: *object.method()*"
   ]
  },
  {
   "cell_type": "markdown",
   "metadata": {},
   "source": [
    "### 1.4 Operations"
   ]
  },
  {
   "cell_type": "markdown",
   "metadata": {},
   "source": [
    "Operations are defined using the special methods, for example __ add __ is associated to the *'+'* operator. "
   ]
  },
  {
   "cell_type": "markdown",
   "metadata": {},
   "source": [
    "Let's create now to complex numbers, *x, y*, add then, and compute the module and the phase of the resulting addition."
   ]
  },
  {
   "cell_type": "code",
   "execution_count": 7,
   "metadata": {},
   "outputs": [
    {
     "name": "stdout",
     "output_type": "stream",
     "text": [
      "z =  1.4142135623730951e^0.7853981633974484\n",
      "abs(z) =  1.4142135623730951\n",
      "z phase (1/pi) =  0.25000000000000006\n"
     ]
    }
   ],
   "source": [
    "x = Complex(1.,0)\n",
    "y = Complex(1., math.pi/2.)\n",
    "z = x + y\n",
    "print('z = ', z)\n",
    "print('abs(z) = ', abs(z))\n",
    "print('z phase (1/pi) = ', z.phase/math.pi)"
   ]
  },
  {
   "cell_type": "markdown",
   "metadata": {},
   "source": [
    "Here are the list of the special methods and the operation of builtin function associated to them (section 3.4): https://docs.python.org/2.7/reference/datamodel.html#new-style-and-classic-classes\n"
   ]
  },
  {
   "cell_type": "markdown",
   "metadata": {},
   "source": [
    "### 1.5 Serializing the class"
   ]
  },
  {
   "cell_type": "markdown",
   "metadata": {},
   "source": [
    "Two important special methods are __ str __ that serializes the object and converts it into a string, and __ repr __ that does the same but is used with the interpreter to print into the output.\n",
    "\n",
    "When a class has a **str** method, it can be printed!"
   ]
  },
  {
   "cell_type": "code",
   "execution_count": 8,
   "metadata": {},
   "outputs": [
    {
     "name": "stdout",
     "output_type": "stream",
     "text": [
      "1.4142135623730951e^0.7853981633974484  is str?  True\n"
     ]
    }
   ],
   "source": [
    "sx = str(z)\n",
    "print(sx, ' is str? ', isinstance(sx, str))"
   ]
  },
  {
   "cell_type": "markdown",
   "metadata": {},
   "source": [
    "### Exercises"
   ]
  },
  {
   "cell_type": "markdown",
   "metadata": {
    "collapsed": true
   },
   "source": [
    "*Exercises*:\n",
    "\n",
    "  1. Finish the implementation of a class *Complex*.\n",
    "  2. Implement class *Vector* and *Matrix* using python lists and implement some of its methods. (This is an accademic exercise, please use numpy.array!)\n",
    "  3. Define a class for a bank account and its movements. Define a class for a bank holding several bank accounts.   \n",
    "  4. Define a class for 1D histogram."
   ]
  },
  {
   "cell_type": "code",
   "execution_count": null,
   "metadata": {
    "collapsed": true
   },
   "outputs": [],
   "source": []
  }
 ],
 "metadata": {
  "anaconda-cloud": {},
  "kernelspec": {
   "display_name": "Python 3",
   "language": "python",
   "name": "python3"
  },
  "language_info": {
   "codemirror_mode": {
    "name": "ipython",
    "version": 3
   },
   "file_extension": ".py",
   "mimetype": "text/x-python",
   "name": "python",
   "nbconvert_exporter": "python",
   "pygments_lexer": "ipython3",
   "version": "3.7.3"
  }
 },
 "nbformat": 4,
 "nbformat_minor": 1
}
