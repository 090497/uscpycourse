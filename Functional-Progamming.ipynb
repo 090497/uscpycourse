{
 "cells": [
  {
   "cell_type": "markdown",
   "metadata": {},
   "source": [
    "# Python Course on Classes and Functional Programming\n",
    "\n",
    "## Functional Programming"
   ]
  },
  {
   "cell_type": "code",
   "execution_count": 211,
   "metadata": {
    "collapsed": false
   },
   "outputs": [
    {
     "name": "stdout",
     "output_type": "stream",
     "text": [
      " Last revision  Sat Nov  5 16:52:36 2016\n"
     ]
    }
   ],
   "source": [
    "import time\n",
    "print ' Last revision ', time.asctime()"
   ]
  },
  {
   "cell_type": "markdown",
   "metadata": {},
   "source": [
    "### 1. Introduction\n",
    "\n",
    "**Functional Programming**, FP, is a computing paradigm that stablishes that a program is a set of functions, is a flow of functions that are evaluated in a serie. Each function takes an input and produces an output, it has no side effect, it always produces the same output for the same input. In FP data has no evolving states, that is, it does not change along the program. Data just flows between functions.\n",
    "\n",
    "The FP code is modular, reusable, and easy to check. Functions are small pieces of code, they can be re-arranged to create a new program and they are easy to check. You check then ones and re-use them many times.\n",
    "\n",
    "Functional Programming is almost the contrary that Object Oriented programming. An OO program is composed of objects that have states, that evolve during the execution, and that relate between them. In general no paradigm is better that the other. Depending on the computational problem you want to solve you can chose one or the other. In some cases, both paradigms can live together. For example an composite (eclectic and heretic) approach is define data structures, that have states, as classes, with methods that change its state; and drive your program via functions. \n",
    "\n",
    "Python nicely supports functional programming, via mostly the **iterators** and **list expressions**. These the topics that we will cover in the next sections."
   ]
  },
  {
   "cell_type": "markdown",
   "metadata": {},
   "source": [
    "---------\n",
    "### 2. Iterators\n",
    "\n",
    "Iterators are an important ingredient in functional programming. It is very common, that you want to execute a function over a set of items, a stream. Iterators are objects that represent that stream. \n",
    "\n",
    "In Python, an iterator returns the next object in the stream when applying the *next()* method to it. When the end of the stream is reached, the iterator raises a *StopIteration* exception.  \n",
    "\n",
    "An object is iterable if it can provide an iterator. List, tuples, dictionaries and strings are iterables. The way to get the iterator is via the *iter()* builtin function.\n",
    "\n",
    "When dealing with *for* statements, we are in fact dealing with iterators. Here is a 'low' level code that shows how the list iterator works. When you use the *for* statement, it simplifies most of this work for you!"
   ]
  },
  {
   "cell_type": "code",
   "execution_count": 212,
   "metadata": {
    "collapsed": false
   },
   "outputs": [
    {
     "name": "stdout",
     "output_type": "stream",
     "text": [
      "iter(list) is of type  <type 'listiterator'>\n",
      "list is  [0, 1, 2]\n",
      "item  0\n",
      "item  1\n",
      "item  2\n",
      "end of iteration reached!\n",
      "item  0\n",
      "item  1\n",
      "item  2\n"
     ]
    }
   ],
   "source": [
    "x = range(3)\n",
    "itx = iter(x)\n",
    "print 'iter(list) is of type ', type(itx)\n",
    "go = True\n",
    "print 'list is ', x\n",
    "while go:\n",
    "    try: \n",
    "        xi = itx.next()\n",
    "        print 'item ', xi\n",
    "    except StopIteration:\n",
    "        go = False\n",
    "        print 'end of iteration reached!'\n",
    "        \n",
    "for xi in x:\n",
    "    print 'item ', xi"
   ]
  },
  {
   "cell_type": "markdown",
   "metadata": {},
   "source": [
    "Something similar happens with strings:"
   ]
  },
  {
   "cell_type": "code",
   "execution_count": 213,
   "metadata": {
    "collapsed": false
   },
   "outputs": [
    {
     "name": "stdout",
     "output_type": "stream",
     "text": [
      "string is  Hello!\n",
      "letter  H\n",
      "letter  e\n",
      "letter  l\n",
      "letter  l\n",
      "letter  o\n",
      "letter  !\n",
      "end of iteration reached!\n",
      "letter  H\n",
      "letter  e\n",
      "letter  l\n",
      "letter  l\n",
      "letter  o\n",
      "letter  !\n"
     ]
    }
   ],
   "source": [
    "x = 'Hello!'\n",
    "itx = iter(x)\n",
    "go = True\n",
    "print 'string is ', x\n",
    "while go:\n",
    "    try: \n",
    "        xi = itx.next()\n",
    "        print 'letter ', xi\n",
    "    except StopIteration:\n",
    "        go = False\n",
    "        print 'end of iteration reached!'\n",
    "\n",
    "for xi in x:\n",
    "    print 'letter ',xi"
   ]
  },
  {
   "cell_type": "markdown",
   "metadata": {},
   "source": [
    "-----\n",
    "####  2.1 zip() \n",
    "\n",
    "The *zip()* builtin function generates an iterable from several iterables of the same length. \n",
    "\n",
    "This is an expample of how to use *zip()* and what is its iterator."
   ]
  },
  {
   "cell_type": "code",
   "execution_count": 214,
   "metadata": {
    "collapsed": false
   },
   "outputs": [
    {
     "name": "stdout",
     "output_type": "stream",
     "text": [
      "xs = [0, 1, 2]\n",
      "ys = [3, 4, 5]\n",
      "zip(xs, ys) = [(0, 3), (1, 4), (2, 5)]\n",
      "xyi = (0, 3)\n",
      "xi = 0 ; yi = 3\n"
     ]
    }
   ],
   "source": [
    "xs = range(0,3)\n",
    "ys = range(3,6)\n",
    "xys = zip(xs,ys)\n",
    "print 'xs =', xs\n",
    "print 'ys =', ys\n",
    "print 'zip(xs, ys) =', xys\n",
    "\n",
    "itxy = iter(xys)\n",
    "xyi = itxy.next()\n",
    "print 'xyi =', xyi\n",
    "xi, yi = xyi\n",
    "print 'xi =', xi, '; yi =', yi "
   ]
  },
  {
   "cell_type": "markdown",
   "metadata": {},
   "source": [
    "----\n",
    "#### 2.2 enumerate()\n",
    "\n",
    "Another important iterator is generated by the *enumerate()* builtin function. *enumerate()* takes an iterable and returns and iterator with two elements: the index position of the item and the item itself in the iterable.\n",
    "\n",
    "This is particulary useful when inside a loop one needs access to both, the index position of the item in the list and the item.\n",
    "\n",
    "Let's see the example:"
   ]
  },
  {
   "cell_type": "code",
   "execution_count": 215,
   "metadata": {
    "collapsed": false
   },
   "outputs": [
    {
     "name": "stdout",
     "output_type": "stream",
     "text": [
      "item [ 0 ] =  a\n",
      "item [ 1 ] =  b\n",
      "item [ 2 ] =  c\n"
     ]
    }
   ],
   "source": [
    "xs = ['a', 'b', 'c']\n",
    "\n",
    "for i, xi in enumerate(xs):\n",
    "    print 'item [', i, '] = ', xi"
   ]
  },
  {
   "cell_type": "markdown",
   "metadata": {},
   "source": [
    "Let's move in the iterator from *enumerate()*. In the following example we get the tuple value of the 1st item. "
   ]
  },
  {
   "cell_type": "code",
   "execution_count": 216,
   "metadata": {
    "collapsed": false
   },
   "outputs": [
    {
     "name": "stdout",
     "output_type": "stream",
     "text": [
      " xi = (0, 'a')\n"
     ]
    }
   ],
   "source": [
    "xs = ['a', 'b', 'c']\n",
    "it = enumerate(xs)\n",
    "xi = it.next()\n",
    "print ' xi =', xi"
   ]
  },
  {
   "cell_type": "markdown",
   "metadata": {},
   "source": [
    "------\n",
    "#### 2.3 List from iterators\n",
    "\n",
    "We can recover a list (or tuple) from a interator. *list(iterator)* will produce the list with the rest of items in the iterator."
   ]
  },
  {
   "cell_type": "code",
   "execution_count": 217,
   "metadata": {
    "collapsed": false
   },
   "outputs": [
    {
     "name": "stdout",
     "output_type": "stream",
     "text": [
      "original list  [0, 1, 2, 3]\n",
      "first item in the iterator  0\n",
      "a list with the other items  [1, 2, 3]\n"
     ]
    }
   ],
   "source": [
    "ns = range(4)\n",
    "print 'original list ', ns\n",
    "\n",
    "# getting the iterator of the list\n",
    "it = iter(ns) \n",
    "print 'first item in the iterator ', it.next()\n",
    "\n",
    "# getting the list of the rest of the iterator\n",
    "xns = list(it)\n",
    "print 'a list with the other items ', xns"
   ]
  },
  {
   "cell_type": "markdown",
   "metadata": {},
   "source": [
    "------------\n",
    "*Execises*: \n",
    "  1. Get the iterator of a dictionary and run over it, what is its iterable?\n",
    "  2. Generate *n* random *(x,y)* points in a *[-L, L]* square (with *L=1*). Use *zip*\n",
    "  3. Define a function that providen an item (item0) a a list of items, find the item in the list that is close to item0 and returns also its position in the list.\n",
    "  4. Get the iterator from a list and produce from it a tuple."
   ]
  },
  {
   "cell_type": "markdown",
   "metadata": {},
   "source": [
    "------\n",
    "### 3. Generators\n",
    "\n",
    "Generators are special functions that returns an iterator, the generator function resumes when *next()* is applied to it. Generators do not use the *return* statement, instead they use *yied*. A return in a generator indicates end of the iterator and it raises the *StopIteration* exception.\n",
    "\n",
    "This is an explample of generator for event numbers:"
   ]
  },
  {
   "cell_type": "code",
   "execution_count": 218,
   "metadata": {
    "collapsed": false
   },
   "outputs": [],
   "source": [
    "def generator_even(n):\n",
    "    \"\"\" returns an iterator in the event number of the list [0,..., n-1]\n",
    "    \"\"\"\n",
    "    ns = range(n)\n",
    "    evens = [ni for ni in ns if ni%2 == 0]\n",
    "    for ev in evens:\n",
    "        yield ev\n",
    "    return"
   ]
  },
  {
   "cell_type": "code",
   "execution_count": 219,
   "metadata": {
    "collapsed": false
   },
   "outputs": [
    {
     "name": "stdout",
     "output_type": "stream",
     "text": [
      "type  <generator object generator_even at 0x103e65be0>\n",
      "item! =  0\n",
      "item = 2\n",
      "item = 4\n",
      "item = 6\n",
      "item = 8\n"
     ]
    }
   ],
   "source": [
    "# create the generator of even numbers from 0 to 10\n",
    "it = generator_even(10)\n",
    "print 'type ', it\n",
    "\n",
    "# get the first item in the iterator\n",
    "print 'item! = ', it.next()\n",
    "\n",
    "# loop in the rest of item in the iterator\n",
    "for itv in it:\n",
    "    print 'item =', itv"
   ]
  },
  {
   "cell_type": "code",
   "execution_count": 220,
   "metadata": {
    "collapsed": false
   },
   "outputs": [],
   "source": [
    "def generator_rest(n, n0=2):\n",
    "    ni = 0\n",
    "    while (ni < n):\n",
    "        val = (yield ni)\n",
    "        if (val != None and val < n):\n",
    "            ni = n0*int(val/n0)\n",
    "        else:\n",
    "            ni = ni + n0\n",
    "    return"
   ]
  },
  {
   "cell_type": "markdown",
   "metadata": {},
   "source": [
    "We can force the iterator from a generator to end or to jump to a given value.\n",
    "\n",
    "To end the iteration, apply to the iterator the *close()* method.\n",
    "\n",
    "To jump to a given value, apply *send(value)* method. To do so, we need to modify the generator to define the variable associated to the running value. If the *send()* method is applied the value inside the generator changes from *None* to the value. We need to catch it and proceed accordingly.\n",
    "\n",
    "Let's see an example:"
   ]
  },
  {
   "cell_type": "code",
   "execution_count": 221,
   "metadata": {
    "collapsed": false
   },
   "outputs": [
    {
     "name": "stdout",
     "output_type": "stream",
     "text": [
      "generator tuple  (0, 3, 6, 9)\n",
      "item 1st is  0\n",
      "jump to 7\n",
      "item now is  6\n",
      "next item is  9\n"
     ]
    }
   ],
   "source": [
    "# get the tuple from the generator\n",
    "ns = tuple(generator_rest(10, 3))\n",
    "print 'generator tuple ', ns\n",
    "\n",
    "# get the iterator of the generator\n",
    "it = generator_rest(10, 3)\n",
    "print 'item 1st is ', it.next()\n",
    "\n",
    "# jump to iterator to the 7!\n",
    "print 'jump to', 7\n",
    "print 'item now is ', it.send(7)\n",
    "print 'next item is ', it.next()\n",
    "\n",
    "# close the iteration\n",
    "it.close()"
   ]
  },
  {
   "cell_type": "markdown",
   "metadata": {},
   "source": [
    "------\n",
    "### 4. List expressions\n",
    "\n",
    "The other key ingredients in Functional programming are list expressions. There are associated to two common operations: to apply a function to all the items on a list to produce a new set of items; and to select the items in the list that fulfill a condition. \n",
    "\n",
    "In Python both operations can be done in a simple way with the builtin functions *map* and *filter*, or more properly via the *\"[predicate(item) for item in iteratable]\"* and *[item for item in iterable if condition(item)]* list expressions.\n",
    "\n",
    "Let's see it with an example:"
   ]
  },
  {
   "cell_type": "code",
   "execution_count": 222,
   "metadata": {
    "collapsed": false
   },
   "outputs": [
    {
     "name": "stdout",
     "output_type": "stream",
     "text": [
      "list  [0, 1, 2, 3, 4, 5]\n",
      "x2  [0, 1, 4, 9, 16, 25]\n",
      "x2  [0, 1, 4, 9, 16, 25]\n",
      "evens  [0, 2, 4]\n",
      "evens  [0, 2, 4]\n"
     ]
    }
   ],
   "source": [
    "xs = range(6)\n",
    "\n",
    "print 'list ', xs\n",
    "x2s = map(lambda xi: xi*xi, xs)\n",
    "print 'x2 ', x2s\n",
    "x2s = [xi*xi for xi in xs]\n",
    "print 'x2 ', x2s\n",
    "\n",
    "xevens = filter(lambda xi: xi%2 == 0, xs)\n",
    "print 'evens ', xevens\n",
    "xevens = [xi for xi in xs if xi%2 == 0]\n",
    "print 'evens ', xevens"
   ]
  },
  {
   "cell_type": "markdown",
   "metadata": {},
   "source": [
    "list expressions can support several iterables, the general systax is:\n",
    "\n",
    "*[predicate(item1, item2, ...) for item1 in iterable1 for item2 in iterable2 ... ]*\n",
    "\n",
    "and can be combined:\n",
    "\n",
    "*[predicate(item1, item2, ...( for item1 in iterable1 if condition(item1) for item2 in iterable2 if condition(item2) ...]*"
   ]
  },
  {
   "cell_type": "code",
   "execution_count": 223,
   "metadata": {
    "collapsed": false
   },
   "outputs": [
    {
     "name": "stdout",
     "output_type": "stream",
     "text": [
      "xs  [0, 1, 2]\n",
      "ys  [3, 4, 5]\n",
      "xys  [(0, 3), (0, 4), (0, 5), (1, 3), (1, 4), (1, 5), (2, 3), (2, 4), (2, 5)]\n",
      "xyevens  [(0, 3), (0, 5), (2, 3), (2, 5)]\n"
     ]
    }
   ],
   "source": [
    "xs = range(3)\n",
    "ys = range(3,6)\n",
    "print 'xs ', xs\n",
    "print 'ys ', ys\n",
    "\n",
    "xys = [(xi, yi) for xi in xs for yi in ys]\n",
    "print 'xys ', xys\n",
    "\n",
    "xyevens = [(xi, yi) for xi in xs if xi%2 == 0 for yi in ys if yi%2 != 0]\n",
    "print 'xyevens ',xyevens"
   ]
  },
  {
   "cell_type": "markdown",
   "metadata": {},
   "source": [
    "They can also support several iterables at the same time, providing that they have the same lenght. We can use the *zip()* builtin function to create one iterable.\n",
    "\n",
    "The general expression is:\n",
    "\n",
    "*[predicate(item1, item2) for item1, item2 in zip(iterable1, iterable2) if condition(item1, item2)]*"
   ]
  },
  {
   "cell_type": "code",
   "execution_count": 224,
   "metadata": {
    "collapsed": false
   },
   "outputs": [
    {
     "name": "stdout",
     "output_type": "stream",
     "text": [
      "xs  [0, 1, 2]\n",
      "ys  [3, 4, 5]\n",
      "xys  [3, 3, 3]\n",
      "xys  [3, 3]\n"
     ]
    }
   ],
   "source": [
    "xs = range(3)\n",
    "ys = range(3, 6)\n",
    "print 'xs ', xs\n",
    "print 'ys ', ys\n",
    "\n",
    "xys = [(yi-xi) for xi, yi in zip(xs, ys)]\n",
    "print 'xys ', xys\n",
    "xys = [(yi-xi) for xi, yi in zip(xs, ys) if xi%2 == 0]\n",
    "print 'xys ', xys"
   ]
  },
  {
   "cell_type": "markdown",
   "metadata": {},
   "source": [
    "Another possibility is combine *map()* that accepts several iterables, and get use of the *lambda* command."
   ]
  },
  {
   "cell_type": "code",
   "execution_count": 225,
   "metadata": {
    "collapsed": false
   },
   "outputs": [
    {
     "name": "stdout",
     "output_type": "stream",
     "text": [
      "xs = [0, 1, 2]\n",
      "ys = [3, 4, 5]\n",
      "xys = [3, 3, 3]\n"
     ]
    }
   ],
   "source": [
    "xs = range(3)\n",
    "ys = range(3, 6)\n",
    "print 'xs =', xs\n",
    "print 'ys =', ys\n",
    "\n",
    "xys = map(lambda xi, yi: yi-xi, xs, ys)\n",
    "print 'xys =', xys"
   ]
  },
  {
   "cell_type": "markdown",
   "metadata": {},
   "source": [
    "-----\n",
    "#### 4.1 Ordering a list\n",
    "\n",
    "The *sorted()* builtin function allow us to sort a list. "
   ]
  },
  {
   "cell_type": "code",
   "execution_count": 226,
   "metadata": {
    "collapsed": false
   },
   "outputs": [
    {
     "name": "stdout",
     "output_type": "stream",
     "text": [
      "original  [8, 10, 9, 5, 3, 1]\n",
      "ordered  [1, 3, 5, 8, 9, 10]\n"
     ]
    }
   ],
   "source": [
    "xs = [8, 10, 9, 5, 3, 1]\n",
    "print 'original ', xs\n",
    "\n",
    "oxs = sorted(xs)\n",
    "print 'ordered ', oxs"
   ]
  },
  {
   "cell_type": "markdown",
   "metadata": {},
   "source": [
    "*sort()* accepts several arguments. We can ask for the reverse ordering setting the argument *reverse=True*.\n",
    "\n",
    "We can also modify the ordering comparison, providing as *cmp* argument a function that compares two items and returns -1, 0, 1 if the first item goes first, is equal to the second one, or the second one goes first. \n",
    "\n",
    "There is a third argument *key* that applies a function to the item to get a value that it will be used to order the items.\n",
    "\n",
    "Let's see some examples:"
   ]
  },
  {
   "cell_type": "code",
   "execution_count": 227,
   "metadata": {
    "collapsed": false
   },
   "outputs": [
    {
     "name": "stdout",
     "output_type": "stream",
     "text": [
      "original list [0, 1, 2, 3, 4]\n",
      "inverse ordering  [4, 3, 2, 1, 0]\n",
      "ordered respect 3  [3, 2, 4, 1, 0]\n",
      "ordered respect 2 [2, 1, 3, 0, 4]\n"
     ]
    }
   ],
   "source": [
    "xs = range(5)\n",
    "print 'original list', xs\n",
    "\n",
    "# reverse ordering\n",
    "ixs = sorted(xs, reverse=True)\n",
    "print 'inverse ordering ', ixs\n",
    "\n",
    "# using a function to compare two items\n",
    "def comp3(x, y, x0=3):\n",
    "    \"\"\" orden the items as they are close to x0\n",
    "    \"\"\"\n",
    "    if abs(x - x0) < abs(y - x0):\n",
    "        return -1\n",
    "    if abs(x -x0) == abs(y - x0):\n",
    "        return 0\n",
    "    return 1\n",
    "\n",
    "x3s = sorted(xs, cmp=comp3)\n",
    "print 'ordered respect 3 ', x3s\n",
    "\n",
    "# using a function to get the value in which the ordering will be performed\n",
    "def dis2(x, x0=2.):\n",
    "    \"\"\" return the absolute distance of x with respect x0\n",
    "    \"\"\"\n",
    "    return abs(x-x0)\n",
    "\n",
    "x2s = sorted(xs, key=dis2)\n",
    "print 'ordered respect 2', x2s"
   ]
  },
  {
   "cell_type": "markdown",
   "metadata": {},
   "source": [
    "### 5. List compressions"
   ]
  },
  {
   "cell_type": "markdown",
   "metadata": {},
   "source": [
    "Sometimes we want to compress the list, applying a function to the two first items, and the result of it to the third item, and so on. \n",
    "\n",
    "This is the job of the *reduce()* builtin function. The first argument of *reduce* is a function that takes two arguments and operate on them, for example the product operator *operator.mul*; and the second argument is the list.\n",
    "\n",
    "Let's see an example:"
   ]
  },
  {
   "cell_type": "code",
   "execution_count": 228,
   "metadata": {
    "collapsed": false
   },
   "outputs": [
    {
     "name": "stdout",
     "output_type": "stream",
     "text": [
      "xs = [1, 2, 3]\n",
      "pi xs = 6\n"
     ]
    }
   ],
   "source": [
    "import operator\n",
    "\n",
    "xs = range(1, 4)\n",
    "print 'xs =', xs\n",
    "\n",
    "p = reduce(operator.mul, xs)\n",
    "print 'pi xs =', p"
   ]
  },
  {
   "cell_type": "markdown",
   "metadata": {},
   "source": [
    "There are some builtin functions that reduce a list to the sum of all items, *sum()*, the maximum, *max()* or the minimum, *min()*.\n",
    "\n",
    "In addition, if the list is of boolean, you can apply *any()* that returns *True* is one item in the list is *True* and *all()* that returns *True* if all items are *True*."
   ]
  },
  {
   "cell_type": "code",
   "execution_count": 229,
   "metadata": {
    "collapsed": false
   },
   "outputs": [
    {
     "name": "stdout",
     "output_type": "stream",
     "text": [
      "xs = [1, 2, 3]\n",
      "sum(xs) =  6\n",
      "max(xs) =  3\n",
      "min(xs) =  1\n",
      "bs =  [1, 0, 1]\n",
      "any(bs) =  True\n",
      "all(bs) =  False\n"
     ]
    }
   ],
   "source": [
    "xs = range(1, 4)\n",
    "print 'xs =', xs\n",
    "\n",
    "print 'sum(xs) = ', sum(xs)\n",
    "print 'max(xs) = ', max(xs)\n",
    "print 'min(xs) = ', min(xs)\n",
    "\n",
    "bs = [1,0,1]\n",
    "print 'bs = ', bs\n",
    "print 'any(bs) = ', any(bs)\n",
    "print 'all(bs) = ', all(bs)"
   ]
  },
  {
   "cell_type": "markdown",
   "metadata": {},
   "source": [
    "*Exercises*:\n",
    "  1. Generate random *n* *(x, y)* points in a *[-L, L]* square. Order them respect the *y* coordinate. Reorder them nos respest its distance to the origin and to *(L, L)* vertex.\n",
    "  2. Generate random a list of numbers in the *[-L/2, L/2]* interval, compute the mean of its square value. \n",
    "  3. Generate *n* random mumbers using a normal distribution, compute now its mean and standard deviation."
   ]
  },
  {
   "cell_type": "markdown",
   "metadata": {},
   "source": [
    "----\n",
    "### 6 More on functions, iterators, list expressions and compressions\n",
    "\n",
    "Python comes with the *itertools* module that provides additional functionality to:\n",
    "\n",
    "  1. Generate endless or circular iterators, *cycle(), count()* functions. \n",
    "  2. Apply functions to several iterables, *imap()* function.\n",
    "  3. Apply diverse filters, for example *ifilter(), dropwhile(), keepwhile()* functions.\n",
    "  \n",
    "*functools* is another useful module. It let you create functions from previous functions."
   ]
  },
  {
   "cell_type": "markdown",
   "metadata": {},
   "source": [
    "----\n",
    "### 7. Summary\n",
    "\n",
    "We have seen that Python provides powerful tools for Functional Programming:\n",
    "\n",
    "  1. Users can navigate iterables using iterators.\n",
    "  2. List, tuples, dictionary and strings are iterable objects\n",
    "  1. Users can customized generators to provide iterators.\n",
    "  3. Functions can be called recersevely.\n",
    "  3. Function arguments can be set by default, passed by tuples or dictionaries.\n",
    "  5. Functions can return more then one result.\n",
    "  6. Functions can return a function.\n",
    "  7. Functions can be constructed in the flight using *lambda*.\n",
    "  8. There are nice list compressions tools, such as *reduce()*\n",
    "  9. There are very powerful list expressions, such as *map()* or *[predicate in item for iterable if condition]*\n",
    "  10. There are list reduction tools, such as *filter()* of using the *[predicate in item for iterable if condition]*\n",
    "  "
   ]
  },
  {
   "cell_type": "markdown",
   "metadata": {},
   "source": [
    "### Bibliography\n",
    "\n",
    "  1. \"Structure and Iterpretation of Computer Programs\", H. Abelson, G. J. Sussman and J. Sussman. Mc Graw-Hill (1996), (https://mitpress.mit.edu/sicp/full-text/book/book-Z-H-4.html)\n",
    "  2. Phython org (https://docs.python.org/2/howto/functional.html)"
   ]
  },
  {
   "cell_type": "code",
   "execution_count": null,
   "metadata": {
    "collapsed": true
   },
   "outputs": [],
   "source": []
  }
 ],
 "metadata": {
  "kernelspec": {
   "display_name": "Python [Root]",
   "language": "python",
   "name": "Python [Root]"
  },
  "language_info": {
   "codemirror_mode": {
    "name": "ipython",
    "version": 2
   },
   "file_extension": ".py",
   "mimetype": "text/x-python",
   "name": "python",
   "nbconvert_exporter": "python",
   "pygments_lexer": "ipython2",
   "version": "2.7.12"
  }
 },
 "nbformat": 4,
 "nbformat_minor": 0
}
