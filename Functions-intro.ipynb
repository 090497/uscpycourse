{
 "cells": [
  {
   "cell_type": "markdown",
   "metadata": {},
   "source": [
    "# Python course on Classes and Functional Programming\n",
    "\n",
    "## More on functions"
   ]
  },
  {
   "cell_type": "code",
   "execution_count": null,
   "metadata": {
    "collapsed": false
   },
   "outputs": [],
   "source": [
    "import time\n",
    "print ' Last revision ', time.asctime()"
   ]
  },
  {
   "cell_type": "markdown",
   "metadata": {},
   "source": [
    "## 1. About functions"
   ]
  },
  {
   "cell_type": "markdown",
   "metadata": {},
   "source": [
    "A function in Python is encapsulated pieze of code, that can take several arguments, performs several expresions and returns a result.\n",
    "\n",
    "The next cell shows the definition of a function, named *fib*, that retuns the list of the first *n* Fibonacci numbers. "
   ]
  },
  {
   "cell_type": "code",
   "execution_count": null,
   "metadata": {
    "collapsed": true
   },
   "outputs": [],
   "source": [
    "def fib(n):\n",
    "    \"\"\" returns a list with the first n numbers of the Fibonacci serie\n",
    "    \"\"\"\n",
    "    ns = [0, 1]\n",
    "    for i in range(2, n):\n",
    "        ns.append(ns[i-2] + ns[i-1])\n",
    "    return ns"
   ]
  },
  {
   "cell_type": "code",
   "execution_count": null,
   "metadata": {
    "collapsed": false
   },
   "outputs": [],
   "source": [
    "print fib(10)"
   ]
  },
  {
   "cell_type": "markdown",
   "metadata": {},
   "source": [
    "A function have a name, *fib*, a type, *function*, can take argumments, *n*, and return values, in this case the list *ns* with the Fibonacci numbers. \n",
    "\n",
    "The expresions of the function are its body, they follow the definition and are indented. The variables defined in the body are local and are deleted when the function ends. In this sense, the function defines its own scope. \n",
    "\n",
    "In general functions should not change the values of the arguments inside the body.\n",
    "\n",
    "There are F¡functions that do return nothing, but they are expected to do something, produce some side efects, as printing or writting in a output, generating plots, etc. \n"
   ]
  },
  {
   "cell_type": "markdown",
   "metadata": {},
   "source": [
    "### 1.1 Recursivity\n",
    "\n",
    "Python supports recursivity. A function can call itself. Here is the example of the function, *nfactorial*, that computes the factorial of *n*"
   ]
  },
  {
   "cell_type": "code",
   "execution_count": 15,
   "metadata": {
    "collapsed": true
   },
   "outputs": [],
   "source": [
    "def nfactorial(n):\n",
    "    \"\"\" returns n! = n*(n-1)*...*1\n",
    "    \"\"\"\n",
    "    if (n <= 1 ): \n",
    "        return 1\n",
    "    return n * nfactorial(n-1)        "
   ]
  },
  {
   "cell_type": "code",
   "execution_count": 16,
   "metadata": {
    "collapsed": false
   },
   "outputs": [
    {
     "name": "stdout",
     "output_type": "stream",
     "text": [
      " 4! =  24\n"
     ]
    }
   ],
   "source": [
    "print ' 4! = ',nfactorial(4)"
   ]
  },
  {
   "cell_type": "markdown",
   "metadata": {},
   "source": [
    "### 1.2 functions inside functions\n",
    "\n",
    "A funcion can be defined inside another function. The function is then local, and can only be used in the scope of the large function.\n",
    "\n",
    "In the following example, the *distance* function only defined and valid inside the *closest_distance_to* function"
   ]
  },
  {
   "cell_type": "code",
   "execution_count": 17,
   "metadata": {
    "collapsed": true
   },
   "outputs": [],
   "source": [
    "import math\n",
    "\n",
    "def closest_distance_to(x0, xs):\n",
    "    \"\"\" return the element of the *xs* list that is closer to *x0*\n",
    "    \"\"\"\n",
    "    def distance(x0, xi):\n",
    "        return abs(x0 - xi)\n",
    "    d, x = 1e6, None\n",
    "    for xi in xs:\n",
    "        di = distance(x0, xi)\n",
    "        if (di < d): \n",
    "            d, x = di, xi\n",
    "    return x"
   ]
  },
  {
   "cell_type": "code",
   "execution_count": 18,
   "metadata": {
    "collapsed": false
   },
   "outputs": [
    {
     "name": "stdout",
     "output_type": "stream",
     "text": [
      " closest point to x0  1j  is  (0.5+1j)\n"
     ]
    }
   ],
   "source": [
    "x0, xs = 1j, [0., 0.5+1j, 1, 2j]\n",
    "xi = closest_distance_to(x0, xs)\n",
    "print ' closest point to x0 ', x0, ' is ', xi"
   ]
  },
  {
   "cell_type": "markdown",
   "metadata": {},
   "source": [
    "### 1.3 functions and variables\n",
    "\n",
    "A function can be associated to a variable and then pass to another piece of code.\n",
    "\n",
    "In the folowing example *ns* is a variable, which value if the function *nfactorial*."
   ]
  },
  {
   "cell_type": "code",
   "execution_count": 19,
   "metadata": {
    "collapsed": false
   },
   "outputs": [
    {
     "name": "stdout",
     "output_type": "stream",
     "text": [
      "factorials  [1, 1, 2, 6, 24]\n"
     ]
    }
   ],
   "source": [
    "nf = nfactorial\n",
    "ns = [nf(ni) for ni in range(5)]\n",
    "print 'factorials ',ns"
   ]
  },
  {
   "cell_type": "markdown",
   "metadata": {},
   "source": [
    "### 1.4 A function can return a function\n",
    "\n",
    "Again, a function can return another function.\n",
    "\n",
    "In the following example, we pass to a function, *crete_polynomial* a list of coefficients, *pas = [a0, a1, a2, ...]*, and returns a function, that when called with an scalar *x*, compute the polynomial p(x) = a0 + a1*x + a2*x^2 + ..."
   ]
  },
  {
   "cell_type": "code",
   "execution_count": 20,
   "metadata": {
    "collapsed": false
   },
   "outputs": [],
   "source": [
    "import math\n",
    "\n",
    "def create_polynomial(pas):\n",
    "    \"\"\" returns a function that is a polinomial with the coeficients given in the list *pas*\n",
    "    \"\"\"\n",
    "    def pol(x):\n",
    "        y = 0.\n",
    "        for i in range(len(pas)):\n",
    "            y = y + pas[i] * math.pow(x, i)\n",
    "        return y\n",
    "    return pol"
   ]
  },
  {
   "cell_type": "code",
   "execution_count": 21,
   "metadata": {
    "collapsed": false
   },
   "outputs": [
    {
     "name": "stdout",
     "output_type": "stream",
     "text": [
      " p1(2) =  3.0\n",
      " p2(2) =  7.0\n",
      " type of p2  <type 'function'>\n"
     ]
    }
   ],
   "source": [
    "p1 = create_polynomial([1, 1])\n",
    "p2 = create_polynomial([1, 1, 1])\n",
    "print ' p1(2) = ', p1(2.)\n",
    "print ' p2(2) = ', p2(2.)\n",
    "print ' type of p2 ', type(p2)"
   ]
  },
  {
   "cell_type": "markdown",
   "metadata": {},
   "source": [
    "----\n",
    "## 2. Lambda expresions\n",
    "\n",
    "**Lambda** is a command that allows you to define a function on one expression, on the flight, without given a name!\n",
    "\n",
    "The function is expected to work on the local scope.\n",
    "\n",
    "In the following example *sq* is a function defined using *lambda* and computes the squared ot its argument."
   ]
  },
  {
   "cell_type": "code",
   "execution_count": 22,
   "metadata": {
    "collapsed": false
   },
   "outputs": [
    {
     "name": "stdout",
     "output_type": "stream",
     "text": [
      " 2 * 2 =  4.0\n",
      " x2s  [0, 1, 2, 3]\n"
     ]
    }
   ],
   "source": [
    "sq = lambda x: x*x\n",
    "print ' 2 * 2 = ', sq(2.)\n",
    "\n",
    "xs = range(4)\n",
    "x2s = map(lambda xi: xi*xi, xs)\n",
    "print ' x2s ',xs"
   ]
  },
  {
   "cell_type": "markdown",
   "metadata": {},
   "source": [
    "The **lambda** function is a crucial ingredient in **functional programming**.\n",
    "\n",
    "It appears associated to expressions applied to lists, usually with *map* and *filter* builtin functions.\n",
    "\n",
    "In the following example, *map* applies the function defined on the flight using lambda to compute the squared of its argument to the elements on the list *xs* and produces another list with the squares!"
   ]
  },
  {
   "cell_type": "code",
   "execution_count": 23,
   "metadata": {
    "collapsed": false
   },
   "outputs": [
    {
     "name": "stdout",
     "output_type": "stream",
     "text": [
      " xs =  [0, 1, 2, 3]\n",
      " x2s =  [0, 1, 4, 9]\n"
     ]
    }
   ],
   "source": [
    "xs = range(4)\n",
    "x2s = map(lambda xi: xi*xi, xs)\n",
    "print ' xs = ', xs\n",
    "print ' x2s = ', x2s"
   ]
  },
  {
   "cell_type": "markdown",
   "metadata": {},
   "source": [
    "Here is another example, the **lambda** defines a boolean function that returns true if the argument is event and false if it is odd. Then we apply it to a list of numbers *ns* using the *filter* builtin function to select the even numbers in the lsit."
   ]
  },
  {
   "cell_type": "code",
   "execution_count": 24,
   "metadata": {
    "collapsed": false
   },
   "outputs": [
    {
     "name": "stdout",
     "output_type": "stream",
     "text": [
      " ns  [0, 1, 2, 3, 4, 5]\n",
      " even  [0, 2, 4]\n"
     ]
    }
   ],
   "source": [
    "ns = range(6)\n",
    "evs = filter(lambda ni: ni%2 == 0, ns)\n",
    "print ' ns ',ns\n",
    "print ' even ',evs"
   ]
  },
  {
   "cell_type": "markdown",
   "metadata": {},
   "source": [
    "*Lambda* is a powerful command, but use it with care! \n",
    "The code is more readable if you define a function better than just defined on the flight with the *lambda* command."
   ]
  },
  {
   "cell_type": "markdown",
   "metadata": {},
   "source": [
    "-----\n",
    "## 3. About arguments"
   ]
  },
  {
   "cell_type": "markdown",
   "metadata": {},
   "source": [
    "### 3.1 Default arguments\n",
    "\n",
    "It is common that some arguments of the function take a default argument. \n",
    "There is a way to indicate that in python, assigning in the definition of the function the argument to its default value. If the user do not pass that argument, the function will use then the default!\n",
    "\n",
    "In the following example, the *comment* is set by default to *'Please, enter yes or no'*."
   ]
  },
  {
   "cell_type": "code",
   "execution_count": 25,
   "metadata": {
    "collapsed": false
   },
   "outputs": [],
   "source": [
    "def ask_user(comment='Please, enter yes or no. '):\n",
    "    while True:\n",
    "        ok = raw_input(comment)\n",
    "        if (ok in ['y', 'yes']): \n",
    "            return True\n",
    "        elif (ok in ['n', 'no']):\n",
    "            return False"
   ]
  },
  {
   "cell_type": "code",
   "execution_count": null,
   "metadata": {
    "collapsed": false
   },
   "outputs": [],
   "source": [
    "ask_user('Do you want to continue [y, n]? ')\n",
    "ask_user()"
   ]
  },
  {
   "cell_type": "markdown",
   "metadata": {},
   "source": [
    "If the function has several arguments, the default arguments should go at then end!"
   ]
  },
  {
   "cell_type": "markdown",
   "metadata": {},
   "source": [
    "### 3.2 Arguments from a list\n",
    "\n",
    "You can pass several arguments to a function in one go using a tuple. In order to unpack the tuple, just use the * operator in front! "
   ]
  },
  {
   "cell_type": "code",
   "execution_count": 69,
   "metadata": {
    "collapsed": false
   },
   "outputs": [
    {
     "data": {
      "text/plain": [
       "2"
      ]
     },
     "execution_count": 69,
     "metadata": {},
     "output_type": "execute_result"
    }
   ],
   "source": [
    "def prod(a, b):\n",
    "    return a*b\n",
    "\n",
    "x = [1, 2]\n",
    "prod(*x)"
   ]
  },
  {
   "cell_type": "markdown",
   "metadata": {},
   "source": [
    "### 3.3 Arguments from a dictionary\n",
    "\n",
    "You can also pass the arguments to a function using a dictionary, in that case the keys of the dictonary should be strings and be identical to the name of the arguments of the function. You need to use the double * operator in front of the dictionary!"
   ]
  },
  {
   "cell_type": "code",
   "execution_count": 70,
   "metadata": {
    "collapsed": false
   },
   "outputs": [
    {
     "name": "stdout",
     "output_type": "stream",
     "text": [
      " client  Angel  phone  123123123\n"
     ]
    }
   ],
   "source": [
    "def print_client_phone(client, phone):\n",
    "    print ' client ', client, ' phone ', phone\n",
    "\n",
    "data = {'client':'Angel', 'phone':123123123}\n",
    "print_client_phone(**data)"
   ]
  },
  {
   "cell_type": "code",
   "execution_count": null,
   "metadata": {
    "collapsed": true
   },
   "outputs": [],
   "source": []
  }
 ],
 "metadata": {
  "anaconda-cloud": {},
  "kernelspec": {
   "display_name": "Python [Root]",
   "language": "python",
   "name": "Python [Root]"
  },
  "language_info": {
   "codemirror_mode": {
    "name": "ipython",
    "version": 2
   },
   "file_extension": ".py",
   "mimetype": "text/x-python",
   "name": "python",
   "nbconvert_exporter": "python",
   "pygments_lexer": "ipython2",
   "version": "2.7.12"
  }
 },
 "nbformat": 4,
 "nbformat_minor": 0
}
