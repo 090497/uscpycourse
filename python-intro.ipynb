{
 "cells": [
  {
   "cell_type": "markdown",
   "metadata": {},
   "source": [
    "# Python Course on Classes and Functional Programming \n",
    "\n",
    "## Introduction"
   ]
  },
  {
   "cell_type": "code",
   "execution_count": 2,
   "metadata": {
    "collapsed": false
   },
   "outputs": [
    {
     "name": "stdout",
     "output_type": "stream",
     "text": [
      "Last revision  Sat Nov  5 17:09:32 2016\n"
     ]
    }
   ],
   "source": [
    "import time\n",
    "print 'Last revision ',time.asctime()"
   ]
  },
  {
   "cell_type": "markdown",
   "metadata": {},
   "source": [
    "----\n",
    "## 1. Introduction\n",
    "\n",
    "### 1.1 Objective"
   ]
  },
  {
   "cell_type": "markdown",
   "metadata": {},
   "source": [
    "This is a \"high\" level python course. \"You know the basics, now it comes the real thing\". The course covers some issues on classes, or object oriented (OO), and functions, or functional programming (FP). And how to use the coding paradimg to sove your computational problems. \n",
    "\n",
    "These two paradigms of coding are, of course, not python exclusive, they show up in C++, Java, etc. Python has the adventage of combining both in a non intrusive, non partisan way.\n",
    "\n",
    "But before we discuss classes and functions. Let's revisit some basic Python issues that are not about systax but about philosophy, good maners and environment.\n"
   ]
  },
  {
   "cell_type": "markdown",
   "metadata": {},
   "source": [
    "Disclaimers: \n",
    "\n",
    "  1. I am not a programmer. I am just a physicist that uses programming as a tool to do physics! \n",
    "  2. I am not an expert. I am just an apprentice!"
   ]
  },
  {
   "cell_type": "markdown",
   "metadata": {},
   "source": [
    "### 1.2 Philosophy "
   ]
  },
  {
   "cell_type": "markdown",
   "metadata": {},
   "source": [
    "When writting code be zen (https://www.python.org/dev/peps/pep-0020/):\n",
    "    \n",
    "  1. Beautiful is better than ugly.\n",
    "  2. Keep it simple. Simple is better than complex!\n",
    "  3. Readabily counts! \n",
    "  4. Comment your code. Otherwise only Good will know about your code...\n",
    "  5. Flat is better than nexted. Do not write spagetti code!\n",
    "  6. Code must be modular. Big things are made from small parts. Reuse the code!\n",
    "  7. If the implementation is hard to explain, it's a bad idea. If it is simple to explain, maybe it's a good idea!\n",
    "  8. Do not overimplement. Code as you need!\n",
    "  9. If a pattern repeats, an abstraction is behind, exploit it!\n",
    "  10. Think before write!"
   ]
  },
  {
   "cell_type": "markdown",
   "metadata": {},
   "source": [
    "### 1.3 Good manners"
   ]
  },
  {
   "cell_type": "markdown",
   "metadata": {},
   "source": [
    "The good maners can help you to follow the zen principles (but not only!). \n",
    "\n",
    "A \"good\" coding style for Python is defined in pep8 (https://www.python.org/dev/peps/pep-0008/)\n",
    "\n",
    "Let's see some of its rules:\n",
    "\n",
    "  1. Keep line length below 79 characters.\n",
    "  2. Prefer spaces to tabs.\n",
    "  3. Separate fucntions and methods with blank lines.\n",
    "  4. Imports are on the top of the module. One per module. Explicitely import the module (do not use \"import * \"!)\n",
    "  5. Use whitespace after commas, to do more readable expression with operations and comparisons.\n",
    "  6. Write meaningful comments in full english!\n",
    "  7. A naming convention: classes names start with upercase, functions are in lowercase.\n",
    "  8. Use meaningful names for the variables and functions. Use underscore '_' to separete words in functions or variables. Modules should have instead short names.\n",
    "  9. Use underscores to indicate variables and functions for private use.\n",
    "  10. Raise and catch exceptions (no error should pass unnoticed!)\n",
    "    \n",
    "There are other coding standards and tools to help you polish your code, for example, pyflakes."
   ]
  },
  {
   "cell_type": "markdown",
   "metadata": {},
   "source": [
    "I currently use pep8 and pyflakes. You just type in your console:\n",
    "\n",
    "pep8 module.py\n",
    "pyflakes module.py\n",
    "\n",
    "To see if your module.py complains the standards! Good luck!"
   ]
  },
  {
   "cell_type": "markdown",
   "metadata": {},
   "source": [
    "### 1.4 Environment"
   ]
  },
  {
   "cell_type": "markdown",
   "metadata": {},
   "source": [
    "The coding enviroment is the collection of tools, editors, and external modules that you can use in developping your code.\n",
    "\n",
    "In HEP is hard to scape from the influence of ROOT (https://root.cern.ch). While ROOT is a great tool-box it is not user friendly (except for some subpackatges such as RooFit and TMVA).\n",
    "\n",
    "This is my preferred enviroment:\n",
    "\n",
    "  1. Anaconda python distribution, Python 2.7 (https://www.continuum.io/downloads). \n",
    "  2. Use Jupyter notebooks (http://jupyter.org) to develop and document code. Complement with Atom (https://atom.io), sublime (https://www.sublimetext.com) or emacs (https://www.gnu.org/software/emacs/) editors. \n",
    "  3. Use scientific library scipy (https://www.scipy.organd) and numpy (http://www.numpy.org).\n",
    "  4. Use for data analysis and plotting pandas(http://pandas.pydata.org) and matplotlib (http://matplotlib.org).\n",
    "  5. Publish and share your code and collaborate with other developers using github (https://github.com). \n",
    "    \n",
    "With the Anaconda distribution, one gets at one, Jupyter notebooks, scipy, numpy, pandas and matplotlib. \n",
    "\n",
    "    "
   ]
  }
 ],
 "metadata": {
  "anaconda-cloud": {},
  "kernelspec": {
   "display_name": "Python [Root]",
   "language": "python",
   "name": "Python [Root]"
  },
  "language_info": {
   "codemirror_mode": {
    "name": "ipython",
    "version": 2
   },
   "file_extension": ".py",
   "mimetype": "text/x-python",
   "name": "python",
   "nbconvert_exporter": "python",
   "pygments_lexer": "ipython2",
   "version": "2.7.12"
  }
 },
 "nbformat": 4,
 "nbformat_minor": 0
}
