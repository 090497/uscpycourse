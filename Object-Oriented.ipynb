{
 "cells": [
  {
   "cell_type": "markdown",
   "metadata": {},
   "source": [
    "# Python Course on Classes and Functional Programming\n",
    "\n",
    "## Object Oriented Programming"
   ]
  },
  {
   "cell_type": "code",
   "execution_count": 105,
   "metadata": {
    "collapsed": false
   },
   "outputs": [
    {
     "name": "stdout",
     "output_type": "stream",
     "text": [
      " Last revision  Sun Nov  6 18:06:35 2016\n"
     ]
    }
   ],
   "source": [
    "import time\n",
    "print ' Last revision ', time.asctime()"
   ]
  },
  {
   "cell_type": "markdown",
   "metadata": {},
   "source": [
    "---- \n",
    "### About OO\n",
    "\n",
    "Object Oriented programming is a computing paradigm that stablish that a program is a composed with objects and the relations between them. Each object is a class, and it can change state along the program. \n",
    "\n",
    "The main advetange of OO code is that is very modular. Classes provides the users with a tool-box. It is like a *lego* game, you use the objects as pieces of *lego* to built your programs. \n",
    "The code is very reasuble. The main disaventage is that OO has well defined pieces, the classes, but it does not define the program. To understand how a program works you need to follow how the objects relate between themselves and change status along the program. Sometimes this is a *detectivesque* task. The pieces of the your computing program are well identifies (the classes), but the interaction between them (the structure, the program itself) it is not.\n",
    "\n",
    "There are some computing problems that fit nicely into the OO programming. If you decide to structure your program using OO programming, you should analyize the different elements of your problem, what are its abstraction, how they relate. It requires a deep analyses before to start to write. OO forces you to deeply think in your conpyting problem!"
   ]
  },
  {
   "cell_type": "markdown",
   "metadata": {},
   "source": [
    "### An example. A game of cards.\n",
    "\n",
    "Let's consider the following problem: we want to make a computer program to play a game of cards. If we follow an OO approach, we first need to identify its elements and then set the relations between then, its changes along the play. Let's try.\n",
    "\n",
    "#### The cards\n",
    "\n",
    "A game of cards has a deck, a the collection of cards. The Spanish desk has 40 cards. They are organized into four suits: gold coins, cups, swords and clubs. Each suit ranks from the ace, that is followed by the numbers 2 to 7, and the three figures, page, knight and king.\n",
    "From here one will define a class for *Card* and another for *Desk*. Card will have as attributes the rank and the suit, while the Desk will have the 40 cards."
   ]
  },
  {
   "cell_type": "code",
   "execution_count": 106,
   "metadata": {
    "collapsed": false
   },
   "outputs": [],
   "source": [
    "import random\n",
    "\n",
    "class Card:\n",
    "    \n",
    "    def __init__(self, rank, suit):\n",
    "        self.rank = rank\n",
    "        self.suit = suit\n",
    "        return\n",
    "        \n",
    "    def __str__(self):\n",
    "        return str(self.rank)+'-'+str(self.suit)\n",
    "    \n",
    "    def __repr__(self):\n",
    "        return str(self)\n",
    "    \n",
    "    def __eq__(self, card):\n",
    "        return (str(card) == str(self))\n",
    "    \n",
    "class Desk:\n",
    "    \n",
    "    # suits = ['gold coins', 'cups', 'swords', 'clubs']\n",
    "    suits = ['O', 'C', 'S', 'B'] # short cuts for the suits\n",
    "    ranks = ['1', '2' , '3', '4', '5', '6', '7', 'page', 'knight', 'king']\n",
    "    \n",
    "    def __init__(self):\n",
    "        \"\"\" create the spanish desk\n",
    "        \"\"\"\n",
    "        self.cards = [Card(suit, rank) for suit in self.suits for rank in self.ranks]\n",
    "        return\n",
    "        \n",
    "    def shuffle(self):\n",
    "        \"\"\" shuffle the cards\n",
    "        \"\"\"\n",
    "        random.shuffle(self.cards)\n",
    "        return\n",
    "    "
   ]
  },
  {
   "cell_type": "markdown",
   "metadata": {},
   "source": [
    "Lets tesk it!"
   ]
  },
  {
   "cell_type": "code",
   "execution_count": 107,
   "metadata": {
    "collapsed": false
   },
   "outputs": [
    {
     "name": "stdout",
     "output_type": "stream",
     "text": [
      "O [O-1, O-2, O-3, O-4, O-5, O-6, O-7, O-page, O-knight, O-king]\n",
      "C [C-1, C-2, C-3, C-4, C-5, C-6, C-7, C-page, C-knight, C-king]\n",
      "S [S-1, S-2, S-3, S-4, S-5, S-6, S-7, S-page, S-knight, S-king]\n",
      "B [B-1, B-2, B-3, B-4, B-5, B-6, B-7, B-page, B-knight, B-king]\n",
      "suffle  [O-king, C-4, B-page, S-7, S-5, B-6, B-4, C-1, O-6, S-king]\n"
     ]
    }
   ],
   "source": [
    "desk = Desk()\n",
    "for i in range(4):\n",
    "    print desk.suits[i], desk.cards[10*i:10*i+10]\n",
    "    \n",
    "desk.shuffle()\n",
    "print 'suffle ', desk.cards[:10]"
   ]
  },
  {
   "cell_type": "markdown",
   "metadata": {},
   "source": [
    "#### The game\n",
    "\n",
    "Let's now see tha part of the game.\n",
    "\n",
    "Each game will have now players. In almost all the games, at the start, the desk is shuffle and each player gets a number of cards, and the rest is placed on the table on the stock pile, some maybe dare displayed on the table face up. The game proceeds in tourns. At each tourn the player does a movement, either he takes one card from his hand and place on the table face up or on the pile of discarted cards, face down. In some games the player gets an score after playing his tourn, or at the end of the game. In others, the game ends with cards are exhausted or a condition is met. How we defined this in OO? We have a *Player* class, certainly. What else? We have seen that most of the interactions in the game are related with moving a card or cards from a pile to the hand of the player, to pile to pile, etc. The concept of pile and hand (the cards of a player) are similar, a set of cards. Let's named *CardSet*. Now when a player put a card from his hand to display it moves from his hand ( *CardSet*) to another, the display. \n"
   ]
  },
  {
   "cell_type": "code",
   "execution_count": 108,
   "metadata": {
    "collapsed": false
   },
   "outputs": [],
   "source": [
    "class Desk:\n",
    "    \n",
    "    def __init__(self):\n",
    "        self.cards = []\n",
    "        return\n",
    "    \n",
    "    def shuffle(self):\n",
    "        random.shuffle(self.cards)\n",
    "        return\n",
    "        \n",
    "    def take(self, desk, n = 1):\n",
    "        # check that desk has cards\n",
    "        for i in range(n):\n",
    "            card = desk.cards.pop()\n",
    "            self.cards.append(card)\n",
    "        return\n",
    "    \n",
    "    def give(self, card, desk):\n",
    "        # check that card is in self-desk ()\n",
    "        self.cards.remove(card)\n",
    "        desk.cards.append(card)\n",
    "        return\n",
    "    \n",
    "    def __str__(self):\n",
    "        return str(self.cards)\n",
    "\n",
    "class SpanishDesk(Desk):\n",
    "    \n",
    "    # suits = ['gold coins', 'cups', 'swords', 'clubs']\n",
    "    suits = ['O', 'C', 'S', 'B'] # short cuts for the suits\n",
    "    ranks = ['1', '2' , '3', '4', '5', '6', '7', 'sota', 'caballo', 'rey']\n",
    "    values = {'O':10, 'C':20, 'S':30, 'B':40, \n",
    "              '1':1, '2':2, '3':3, '4':4, '5':5, '6':6, '7':7,\n",
    "              'sota':8, 'caballo':9, 'rey':10}\n",
    "    \n",
    "    def __init__(self):\n",
    "        \"\"\" create the spanish desk\n",
    "        \"\"\"\n",
    "        self.cards = [Card(rank, suit) for rank in self.ranks for suit in self.suits]\n",
    "        return\n",
    "\n",
    "    @staticmethod\n",
    "    def compare(card1, card2):\n",
    "        s1 = SpanishDesk.suits.index(card1.suit)\n",
    "        s2 = SpanishDesk.suits.index(card2.suit)\n",
    "        if (s1 < s2): \n",
    "            return -1  \n",
    "        elif (s1 > s2):\n",
    "            return 1\n",
    "        r1 = SpanishDesk.ranks.index(card1.rank)\n",
    "        r2 = SpanishDesk.ranks.index(card2.rank)\n",
    "        if (r1 < r2):\n",
    "            return -1\n",
    "        elif (r1 > r2):\n",
    "            return 1\n",
    "        return 0        "
   ]
  },
  {
   "cell_type": "code",
   "execution_count": 109,
   "metadata": {
    "collapsed": false
   },
   "outputs": [
    {
     "name": "stdout",
     "output_type": "stream",
     "text": [
      " desk  <__main__.Desk instance at 0x103d6b950>\n",
      " pile1  [rey-B, rey-S, rey-C, rey-O, caballo-B]\n",
      " stock  [1-O, 1-C, 1-S, 1-B, 2-O, 2-C, 2-S, 2-B, 3-O, 3-C, 3-S, 3-B, 4-O, 4-C, 4-S, 4-B, 5-O, 5-C, 5-S, 5-B, 6-O, 6-C, 6-S, 6-B, 7-O, 7-C, 7-S, 7-B, sota-O, sota-C, sota-S, sota-B, caballo-O, caballo-C, caballo-S]\n",
      "card  5-B\n",
      " pile1  [rey-B, rey-S, rey-C, rey-O, caballo-B]\n",
      " stock  [1-O, 1-C, 1-S, 1-B, 2-O, 2-C, 2-S, 2-B, 3-O, 3-C, 3-S, 3-B, 4-O, 4-C, 4-S, 4-B, 5-O, 5-C, 5-S, 6-O, 6-C, 6-S, 6-B, 7-O, 7-C, 7-S, 7-B, sota-O, sota-C, sota-S, sota-B, caballo-O, caballo-C, caballo-S, 5-B]\n",
      " stock has  5-B ?  True\n",
      " *** \n",
      "caballo-B  <  5-B ?  1\n",
      " *** \n",
      " pil1 (sorted)  [rey-O, rey-C, rey-S, caballo-B, rey-B]\n"
     ]
    }
   ],
   "source": [
    "stock = SpanishDesk()\n",
    "pile1 = Desk()\n",
    "print ' desk ',desk    \n",
    "pile1.take(stock, 5)\n",
    "print ' pile1 ', pile1\n",
    "print ' stock ', stock\n",
    "b5 = Card('5','B')\n",
    "print 'card ', b5\n",
    "stock.give(b5, stock)\n",
    "print ' pile1 ', pile1\n",
    "print ' stock ', stock\n",
    "print ' stock has ', b5, '? ', (b5 in stock.cards)\n",
    "\n",
    "print ' *** '\n",
    "pile1.shuffle()\n",
    "stock.shuffle()\n",
    "c1 = pile1.cards[0]\n",
    "c2 = stock.cards[0]\n",
    "print c1, ' < ', c2, '? ', SpanishDesk.compare(c1, c2)\n",
    "\n",
    "print ' *** '\n",
    "pile1 = sorted(pile1.cards, cmp = SpanishDesk.compare)\n",
    "print ' pil1 (sorted) ', pile1"
   ]
  },
  {
   "cell_type": "markdown",
   "metadata": {},
   "source": [
    "Now we need to define the interactions and who does interacts in the game. From one side, there are the players, and from the other, there is the 'bank' or 'table'. In most of the cases the 'bank' is passive, it just have some pile of cards: the stock, the discarted cards, or maybe some cards in display, face up. Players interct with the 'bank' taking a card from one pile and puting in another, or taking a card from his hand and puting it in some of the cards. In OO, the elements *Player* and *Bank* interact via *CardSet*, passing a card from one cardset to another.\n",
    "\n",
    "These are more or less classes that are associated to 'real' object. But in addition we need to define a class for the entire game, *Game*, that must be the master object, one per game, that knows about the bank, the players, cards and and start, move and ends the game.\n",
    "It will take care of asking players and desk to play. \n",
    "\n",
    "Let's try to define a class, generic enough *Play* and *Bank*. For *Game* we have only an interface, as it will depend more on the specific game to implemtent"
   ]
  },
  {
   "cell_type": "code",
   "execution_count": 113,
   "metadata": {
    "collapsed": true
   },
   "outputs": [],
   "source": [
    "class Player:\n",
    "    \n",
    "    def __init__(self, name):\n",
    "        self.name = name\n",
    "        self.hand = Desk()\n",
    "        return\n",
    "    \n",
    "    def __str__(self):\n",
    "        return str(self.name)+' hand '+str(self.hand)\n",
    "    \n",
    "class Bank:\n",
    "    \n",
    "    def __init__(self):\n",
    "        self.stock = SpanishDesk()\n",
    "        self.stock.shuffle()\n",
    "        self.display = Desk()\n",
    "        self.discarted = Desk()\n",
    "        return\n",
    "        \n",
    "class Game:\n",
    "    \n",
    "    def __init__(self, player_names):\n",
    "        self.bank = Bank()\n",
    "        self.players = [Player(name) for name in player_names]\n",
    "        return\n",
    "    \n",
    "    def _start(self):\n",
    "        return None\n",
    "    \n",
    "    def _play(self):\n",
    "        return None\n",
    "    \n",
    "    def _finish(self):\n",
    "        return None"
   ]
  },
  {
   "cell_type": "markdown",
   "metadata": {},
   "source": [
    "Now let's implement a simple card game, the favorite of my grandmother 'cinquillo' (see https://es.wikipedia.org/wiki/Cinquillo_(juego) ). \n",
    "\n",
    "At the start of the game, the bank shares all the cards with the players. Starts the player with the five of golden coins, that is put face up on the table. The players go in turns, they put either a five or a card that is continous to the one in display. If there is only the five of gold coins, the player can either put the four or six of gold coins, or a five or other suit. The first player that ends with no cards, wins!\n",
    "\n",
    "Now we create a concrete *Game* class *Cinquillo*, decide the number of players, share the cards, find the first to start, and then proceed. Let's start for 'manual' players. That is, we will ask them, to play a card from his hand. Unfortunately, we must display the cards in the screen. "
   ]
  },
  {
   "cell_type": "code",
   "execution_count": 114,
   "metadata": {
    "collapsed": false
   },
   "outputs": [],
   "source": [
    "import itertools\n",
    "\n",
    "class Cinquillo(Game):\n",
    "    \n",
    "    def __init__(self, player_names):\n",
    "        Game.__init__(self, player_names)\n",
    "        self._start()\n",
    "        self._play()\n",
    "        return\n",
    "    \n",
    "    def _start(self):\n",
    "        for player in itertools.cycle(self.players):\n",
    "            try:\n",
    "                player.hand.take(self.bank.stock)\n",
    "            except IndexError:\n",
    "                break\n",
    "        return\n",
    "            \n",
    "    def _display_cards(self, player):\n",
    "        player.hand.cards = sorted(player.hand.cards, cmp = SpanishDesk.compare)\n",
    "        self.bank.display.cards = sorted(self.bank.display.cards, cmp = SpanishDesk.compare)\n",
    "        print '>> ', player.name, ' plays next! '\n",
    "        for suit in SpanishDesk.suits:\n",
    "            cards = [card for card in self.bank.display.cards if card.suit == suit]\n",
    "            if (len(cards) > 0):\n",
    "                print 'table ', cards\n",
    "        print  player\n",
    "        return\n",
    "    \n",
    "    def _valid_input(self, player, scard):\n",
    "        accept, icard = False, None\n",
    "        if (scard == ''): \n",
    "            can = self._player_can_play(player)\n",
    "            if (not can): return True, None\n",
    "        elif (scard.find('-')>0):\n",
    "            rank, suit = scard.split('-')\n",
    "            icard = Card(rank, suit)\n",
    "            accept = (icard in player.hand.cards)\n",
    "        return accept, icard\n",
    "    \n",
    "    def _valid_card(self, player, icard):\n",
    "        O5 = Card('5','O')\n",
    "        if (O5 != self.bank.desk.cards):\n",
    "            return (icard == O5)\n",
    "        if (rank == '5'):\n",
    "            return True\n",
    "        ipos = SpanishDesk.ranks.index(icard.rank)\n",
    "        # print '## Follow rule ', rank, ' pos ', ipos\n",
    "        i0 = max(ipos-1, 0)\n",
    "        i1 = min(ipos+1, len(SpanishDesk.ranks)-1)\n",
    "        for ii in [i0, i1]:\n",
    "            iicard = Card(SpanishDesk.ranks[ii], icard.suit)\n",
    "            ok = (iicard in self.bank.display.cards)\n",
    "            # print '## follow rule ', iicard, ' is in ', self.bank.display.cards, ' ? ', ok\n",
    "            if (ok):\n",
    "                return True\n",
    "        return False\n",
    "    \n",
    "    def _player_can_play(self, player):\n",
    "        oks = [self._valid_card(player, icard) for icard in player.hand.cards]\n",
    "        ok = any(oks)\n",
    "        # print '### player can play ? ', oks\n",
    "        # print '### player can play ? ', ok\n",
    "        return ok\n",
    "            \n",
    "    def _play(self):\n",
    "        for player in itertools.cycle(self.players):\n",
    "            self._display_cards(player)\n",
    "            accept = False\n",
    "            while (not accept):\n",
    "                scard = raw_input('>> Card to play? ')\n",
    "                if (scard == 'exit'): \n",
    "                    raise BaseException\n",
    "                accept, icard = self._valid_input(player, scard)\n",
    "                if (accept and icard):\n",
    "                    accept = self._valid_card(player, icard)\n",
    "                if (not accept):\n",
    "                    print '>>', scard, ' not valid move! '              \n",
    "            print '>>', player.name, ' plays ', scard\n",
    "            if (scard != ''): \n",
    "                player.hand.give(icard, self.bank.display)\n",
    "            if (len(player.hand.cards) == 0):\n",
    "                print '>>', player.name, ' wins!!!'\n",
    "                break\n",
    "        "
   ]
  },
  {
   "cell_type": "code",
   "execution_count": 115,
   "metadata": {
    "collapsed": false
   },
   "outputs": [
    {
     "name": "stdout",
     "output_type": "stream",
     "text": [
      ">>  Salome  plays next! \n",
      "Salome hand [4-O, sota-O, 2-C, 3-C, 4-C, 7-C, sota-C, 1-S, 2-S, 5-S, 7-S, sota-S, 5-B, sota-B]\n",
      ">> Card to play? \n"
     ]
    },
    {
     "ename": "AttributeError",
     "evalue": "Bank instance has no attribute 'desk'",
     "output_type": "error",
     "traceback": [
      "\u001b[0;31m---------------------------------------------------------------------------\u001b[0m",
      "\u001b[0;31mAttributeError\u001b[0m                            Traceback (most recent call last)",
      "\u001b[0;32m<ipython-input-115-f0892b4950f1>\u001b[0m in \u001b[0;36m<module>\u001b[0;34m()\u001b[0m\n\u001b[1;32m      1\u001b[0m \u001b[0mnames\u001b[0m \u001b[0;34m=\u001b[0m \u001b[0;34m[\u001b[0m\u001b[0;34m'Salome'\u001b[0m\u001b[0;34m,\u001b[0m \u001b[0;34m'Consolacion'\u001b[0m\u001b[0;34m,\u001b[0m \u001b[0;34m'Petra'\u001b[0m\u001b[0;34m]\u001b[0m\u001b[0;34m\u001b[0m\u001b[0m\n\u001b[0;32m----> 2\u001b[0;31m \u001b[0mgame\u001b[0m \u001b[0;34m=\u001b[0m \u001b[0mCinquillo\u001b[0m\u001b[0;34m(\u001b[0m\u001b[0mnames\u001b[0m\u001b[0;34m)\u001b[0m\u001b[0;34m\u001b[0m\u001b[0m\n\u001b[0m",
      "\u001b[0;32m<ipython-input-114-5c6ceb2eb3cc>\u001b[0m in \u001b[0;36m__init__\u001b[0;34m(self, player_names)\u001b[0m\n\u001b[1;32m      6\u001b[0m         \u001b[0mGame\u001b[0m\u001b[0;34m.\u001b[0m\u001b[0m__init__\u001b[0m\u001b[0;34m(\u001b[0m\u001b[0mself\u001b[0m\u001b[0;34m,\u001b[0m \u001b[0mplayer_names\u001b[0m\u001b[0;34m)\u001b[0m\u001b[0;34m\u001b[0m\u001b[0m\n\u001b[1;32m      7\u001b[0m         \u001b[0mself\u001b[0m\u001b[0;34m.\u001b[0m\u001b[0m_start\u001b[0m\u001b[0;34m(\u001b[0m\u001b[0;34m)\u001b[0m\u001b[0;34m\u001b[0m\u001b[0m\n\u001b[0;32m----> 8\u001b[0;31m         \u001b[0mself\u001b[0m\u001b[0;34m.\u001b[0m\u001b[0m_play\u001b[0m\u001b[0;34m(\u001b[0m\u001b[0;34m)\u001b[0m\u001b[0;34m\u001b[0m\u001b[0m\n\u001b[0m\u001b[1;32m      9\u001b[0m         \u001b[0;32mreturn\u001b[0m\u001b[0;34m\u001b[0m\u001b[0m\n\u001b[1;32m     10\u001b[0m \u001b[0;34m\u001b[0m\u001b[0m\n",
      "\u001b[0;32m<ipython-input-114-5c6ceb2eb3cc>\u001b[0m in \u001b[0;36m_play\u001b[0;34m(self)\u001b[0m\n\u001b[1;32m     72\u001b[0m                 \u001b[0;32mif\u001b[0m \u001b[0;34m(\u001b[0m\u001b[0mscard\u001b[0m \u001b[0;34m==\u001b[0m \u001b[0;34m'exit'\u001b[0m\u001b[0;34m)\u001b[0m\u001b[0;34m:\u001b[0m\u001b[0;34m\u001b[0m\u001b[0m\n\u001b[1;32m     73\u001b[0m                     \u001b[0;32mraise\u001b[0m \u001b[0mBaseException\u001b[0m\u001b[0;34m\u001b[0m\u001b[0m\n\u001b[0;32m---> 74\u001b[0;31m                 \u001b[0maccept\u001b[0m\u001b[0;34m,\u001b[0m \u001b[0micard\u001b[0m \u001b[0;34m=\u001b[0m \u001b[0mself\u001b[0m\u001b[0;34m.\u001b[0m\u001b[0m_valid_input\u001b[0m\u001b[0;34m(\u001b[0m\u001b[0mplayer\u001b[0m\u001b[0;34m,\u001b[0m \u001b[0mscard\u001b[0m\u001b[0;34m)\u001b[0m\u001b[0;34m\u001b[0m\u001b[0m\n\u001b[0m\u001b[1;32m     75\u001b[0m                 \u001b[0;32mif\u001b[0m \u001b[0;34m(\u001b[0m\u001b[0maccept\u001b[0m \u001b[0;32mand\u001b[0m \u001b[0micard\u001b[0m\u001b[0;34m)\u001b[0m\u001b[0;34m:\u001b[0m\u001b[0;34m\u001b[0m\u001b[0m\n\u001b[1;32m     76\u001b[0m                     \u001b[0maccept\u001b[0m \u001b[0;34m=\u001b[0m \u001b[0mself\u001b[0m\u001b[0;34m.\u001b[0m\u001b[0m_valid_card\u001b[0m\u001b[0;34m(\u001b[0m\u001b[0mplayer\u001b[0m\u001b[0;34m,\u001b[0m \u001b[0micard\u001b[0m\u001b[0;34m)\u001b[0m\u001b[0;34m\u001b[0m\u001b[0m\n",
      "\u001b[0;32m<ipython-input-114-5c6ceb2eb3cc>\u001b[0m in \u001b[0;36m_valid_input\u001b[0;34m(self, player, scard)\u001b[0m\n\u001b[1;32m     31\u001b[0m         \u001b[0maccept\u001b[0m\u001b[0;34m,\u001b[0m \u001b[0micard\u001b[0m \u001b[0;34m=\u001b[0m \u001b[0mFalse\u001b[0m\u001b[0;34m,\u001b[0m \u001b[0mNone\u001b[0m\u001b[0;34m\u001b[0m\u001b[0m\n\u001b[1;32m     32\u001b[0m         \u001b[0;32mif\u001b[0m \u001b[0;34m(\u001b[0m\u001b[0mscard\u001b[0m \u001b[0;34m==\u001b[0m \u001b[0;34m''\u001b[0m\u001b[0;34m)\u001b[0m\u001b[0;34m:\u001b[0m\u001b[0;34m\u001b[0m\u001b[0m\n\u001b[0;32m---> 33\u001b[0;31m             \u001b[0mcan\u001b[0m \u001b[0;34m=\u001b[0m \u001b[0mself\u001b[0m\u001b[0;34m.\u001b[0m\u001b[0m_player_can_play\u001b[0m\u001b[0;34m(\u001b[0m\u001b[0mplayer\u001b[0m\u001b[0;34m)\u001b[0m\u001b[0;34m\u001b[0m\u001b[0m\n\u001b[0m\u001b[1;32m     34\u001b[0m             \u001b[0;32mif\u001b[0m \u001b[0;34m(\u001b[0m\u001b[0;32mnot\u001b[0m \u001b[0mcan\u001b[0m\u001b[0;34m)\u001b[0m\u001b[0;34m:\u001b[0m \u001b[0;32mreturn\u001b[0m \u001b[0mTrue\u001b[0m\u001b[0;34m,\u001b[0m \u001b[0mNone\u001b[0m\u001b[0;34m\u001b[0m\u001b[0m\n\u001b[1;32m     35\u001b[0m         \u001b[0;32melif\u001b[0m \u001b[0;34m(\u001b[0m\u001b[0mscard\u001b[0m\u001b[0;34m.\u001b[0m\u001b[0mfind\u001b[0m\u001b[0;34m(\u001b[0m\u001b[0;34m'-'\u001b[0m\u001b[0;34m)\u001b[0m\u001b[0;34m>\u001b[0m\u001b[0;36m0\u001b[0m\u001b[0;34m)\u001b[0m\u001b[0;34m:\u001b[0m\u001b[0;34m\u001b[0m\u001b[0m\n",
      "\u001b[0;32m<ipython-input-114-5c6ceb2eb3cc>\u001b[0m in \u001b[0;36m_player_can_play\u001b[0;34m(self, player)\u001b[0m\n\u001b[1;32m     58\u001b[0m \u001b[0;34m\u001b[0m\u001b[0m\n\u001b[1;32m     59\u001b[0m     \u001b[0;32mdef\u001b[0m \u001b[0m_player_can_play\u001b[0m\u001b[0;34m(\u001b[0m\u001b[0mself\u001b[0m\u001b[0;34m,\u001b[0m \u001b[0mplayer\u001b[0m\u001b[0;34m)\u001b[0m\u001b[0;34m:\u001b[0m\u001b[0;34m\u001b[0m\u001b[0m\n\u001b[0;32m---> 60\u001b[0;31m         \u001b[0moks\u001b[0m \u001b[0;34m=\u001b[0m \u001b[0;34m[\u001b[0m\u001b[0mself\u001b[0m\u001b[0;34m.\u001b[0m\u001b[0m_valid_card\u001b[0m\u001b[0;34m(\u001b[0m\u001b[0mplayer\u001b[0m\u001b[0;34m,\u001b[0m \u001b[0micard\u001b[0m\u001b[0;34m)\u001b[0m \u001b[0;32mfor\u001b[0m \u001b[0micard\u001b[0m \u001b[0;32min\u001b[0m \u001b[0mplayer\u001b[0m\u001b[0;34m.\u001b[0m\u001b[0mhand\u001b[0m\u001b[0;34m.\u001b[0m\u001b[0mcards\u001b[0m\u001b[0;34m]\u001b[0m\u001b[0;34m\u001b[0m\u001b[0m\n\u001b[0m\u001b[1;32m     61\u001b[0m         \u001b[0mok\u001b[0m \u001b[0;34m=\u001b[0m \u001b[0many\u001b[0m\u001b[0;34m(\u001b[0m\u001b[0moks\u001b[0m\u001b[0;34m)\u001b[0m\u001b[0;34m\u001b[0m\u001b[0m\n\u001b[1;32m     62\u001b[0m         \u001b[0;31m# print '### player can play ? ', oks\u001b[0m\u001b[0;34m\u001b[0m\u001b[0;34m\u001b[0m\u001b[0m\n",
      "\u001b[0;32m<ipython-input-114-5c6ceb2eb3cc>\u001b[0m in \u001b[0;36m_valid_card\u001b[0;34m(self, player, icard)\u001b[0m\n\u001b[1;32m     41\u001b[0m     \u001b[0;32mdef\u001b[0m \u001b[0m_valid_card\u001b[0m\u001b[0;34m(\u001b[0m\u001b[0mself\u001b[0m\u001b[0;34m,\u001b[0m \u001b[0mplayer\u001b[0m\u001b[0;34m,\u001b[0m \u001b[0micard\u001b[0m\u001b[0;34m)\u001b[0m\u001b[0;34m:\u001b[0m\u001b[0;34m\u001b[0m\u001b[0m\n\u001b[1;32m     42\u001b[0m         \u001b[0mO5\u001b[0m \u001b[0;34m=\u001b[0m \u001b[0mCard\u001b[0m\u001b[0;34m(\u001b[0m\u001b[0;34m'5'\u001b[0m\u001b[0;34m,\u001b[0m\u001b[0;34m'O'\u001b[0m\u001b[0;34m)\u001b[0m\u001b[0;34m\u001b[0m\u001b[0m\n\u001b[0;32m---> 43\u001b[0;31m         \u001b[0;32mif\u001b[0m \u001b[0;34m(\u001b[0m\u001b[0mO5\u001b[0m \u001b[0;34m!=\u001b[0m \u001b[0mself\u001b[0m\u001b[0;34m.\u001b[0m\u001b[0mbank\u001b[0m\u001b[0;34m.\u001b[0m\u001b[0mdesk\u001b[0m\u001b[0;34m.\u001b[0m\u001b[0mcards\u001b[0m\u001b[0;34m)\u001b[0m\u001b[0;34m:\u001b[0m\u001b[0;34m\u001b[0m\u001b[0m\n\u001b[0m\u001b[1;32m     44\u001b[0m             \u001b[0;32mreturn\u001b[0m \u001b[0;34m(\u001b[0m\u001b[0micard\u001b[0m \u001b[0;34m==\u001b[0m \u001b[0mO5\u001b[0m\u001b[0;34m)\u001b[0m\u001b[0;34m\u001b[0m\u001b[0m\n\u001b[1;32m     45\u001b[0m         \u001b[0;32mif\u001b[0m \u001b[0;34m(\u001b[0m\u001b[0mrank\u001b[0m \u001b[0;34m==\u001b[0m \u001b[0;34m'5'\u001b[0m\u001b[0;34m)\u001b[0m\u001b[0;34m:\u001b[0m\u001b[0;34m\u001b[0m\u001b[0m\n",
      "\u001b[0;31mAttributeError\u001b[0m: Bank instance has no attribute 'desk'"
     ]
    }
   ],
   "source": [
    "names = ['Salome', 'Consolacion', 'Petra']\n",
    "game = Cinquillo(names)"
   ]
  },
  {
   "cell_type": "markdown",
   "metadata": {},
   "source": [
    "What about making some automatic player that plays following a given strategy?\n",
    "\n",
    "Till here the driver of the program has been the class *Cinquillo*, but it seems natural, that if players are going to have their own strategy, we give them a more important role to play.\n",
    "\n",
    "Let's delegate the decision of selecting a card from the hand to the players. First we create the 'human', were this task will be delegated to a query. And then we overload this class, and replace the decision for another way based in an strategy.\n"
   ]
  },
  {
   "cell_type": "code",
   "execution_count": 116,
   "metadata": {
    "collapsed": false
   },
   "outputs": [],
   "source": [
    "class Player:\n",
    "\n",
    "    def __init__(self, name):\n",
    "        self.name = name\n",
    "        self.hand = Desk()\n",
    "        return\n",
    "    \n",
    "    def display_cards(self, desk):\n",
    "        self.hand.cards = sorted(self.hand.cards, cmp = SpanishDesk.compare)\n",
    "        # print '>> ', self.name, ' plays... '\n",
    "        if (len(desk.cards) <= 0): \n",
    "            return\n",
    "        elif (len(desk.cards) > 1): \n",
    "            desk.cards = sorted(desk.cards, cmp = SpanishDesk.compare)\n",
    "        for suit in SpanishDesk.suits:\n",
    "            cards = [card for card in desk.cards if card.suit == suit]\n",
    "            if (len(cards) > 0):\n",
    "                print 'table ', cards\n",
    "        print str(self)\n",
    "        return\n",
    "    \n",
    "    def valid_input(self, scard, desk):\n",
    "        accept, icard = False, None\n",
    "        if (scard == ''): \n",
    "            can = self.can_play(desk)\n",
    "            if (not can): return True, None\n",
    "        elif (scard.find('-')>0):\n",
    "            rank, suit = scard.split('-')\n",
    "            icard = Card(rank, suit)\n",
    "            accept = (icard in self.hand.cards)\n",
    "        return accept, icard\n",
    "    \n",
    "    @staticmethod\n",
    "    def valid_card(icard, desk):\n",
    "        O5 = Card('5','O')\n",
    "        if (not O5 in desk.cards):\n",
    "            return (icard == O5)\n",
    "        if (icard.rank == '5'):\n",
    "            return True\n",
    "        ipos = SpanishDesk.ranks.index(icard.rank)\n",
    "        # print '## Follow rule ', rank, ' pos ', ipos\n",
    "        i0 = max(ipos-1, 0)\n",
    "        i1 = min(ipos+1, len(SpanishDesk.ranks)-1)\n",
    "        for ii in [i0, i1]:\n",
    "            iicard = Card(SpanishDesk.ranks[ii], icard.suit)\n",
    "            ok = (iicard in desk.cards)\n",
    "            # print '## follow rule ', iicard, ' is in ', desk.cards, ' ? ', ok\n",
    "            if (ok):\n",
    "                return True\n",
    "        return False\n",
    "    \n",
    "    def valid_cards(self, desk):\n",
    "        cards = [card for card in self.hand.cards if Player.valid_card(card, desk)]\n",
    "        # print '## valid cards ', cards\n",
    "        return cards\n",
    "    \n",
    "    def can_play(self, desk):\n",
    "        cards = self.valid_cards(desk)\n",
    "        return (len(cards) > 0)\n",
    "            \n",
    "    def play(self, desk):\n",
    "        self.display_cards(desk)\n",
    "        accept = False\n",
    "        while (not accept):\n",
    "            scard = raw_input('>> Card to play? ')\n",
    "            if (scard == 'exit'): \n",
    "                raise BaseException\n",
    "            accept, icard = self.valid_input(scard, desk)\n",
    "            if (accept and icard):\n",
    "                accept = self.valid_card(icard, desk)\n",
    "            if (not accept):\n",
    "                print '>>', scard, ' not valid move! '              \n",
    "        if (scard != ''): \n",
    "            self.hand.give(icard, desk)\n",
    "            print '>>', self.name, ' plays ', scard\n",
    "            print '>>', self.name, ' still has ', len(self.hand.cards), 'cards '\n",
    "        return\n",
    "                \n",
    "    def __str__(self):\n",
    "        return str(self.name)+' '+str(self.hand.cards)\n",
    "    \n",
    "class AutoPlayer(Player):\n",
    "    \n",
    "    def play(self, desk):\n",
    "        # self.display_cards(desk)\n",
    "        if (not self.can_play(desk)):\n",
    "            return\n",
    "        cards = self.valid_cards(desk)\n",
    "        card = random.sample(cards, 1)[0]\n",
    "        self.hand.give(card, desk)\n",
    "        print '>>', self.name, ' plays ', card\n",
    "        print '>>', self.name, ' still has ', len(self.hand.cards), 'cards '\n",
    "        return\n",
    "\n",
    "class Cinquillo:\n",
    "    \n",
    "    def __init__(self, nplayers, player_names):\n",
    "        self.bank = Bank()\n",
    "        self.bank.stock.shuffle()\n",
    "        self.players = [AutoPlayer('Auto'+str(i)) for i in range(nplayers)]\n",
    "        for name in player_names:\n",
    "            self.players.append(Player(name))\n",
    "        self._start()\n",
    "        self._play()\n",
    "        return\n",
    "    \n",
    "    def _start(self):\n",
    "        for player in itertools.cycle(self.players):\n",
    "            try:\n",
    "                player.hand.take(self.bank.stock)\n",
    "            except IndexError:\n",
    "                break\n",
    "        return\n",
    "    \n",
    "    def _play(self):\n",
    "        for player in itertools.cycle(self.players):\n",
    "            player.play(self.bank.display)\n",
    "            #print '# Table ', str(self.bank.display)\n",
    "            if (len(player.hand.cards) == 0):\n",
    "                print '>>', player.name, ' wins!!!'\n",
    "                break    \n",
    "    "
   ]
  },
  {
   "cell_type": "code",
   "execution_count": 117,
   "metadata": {
    "collapsed": false
   },
   "outputs": [
    {
     "name": "stdout",
     "output_type": "stream",
     "text": [
      ">> Auto0  plays  5-O\n",
      ">> Auto0  still has  9 cards \n",
      ">> Auto1  plays  4-O\n",
      ">> Auto1  still has  9 cards \n",
      ">> Auto2  plays  5-C\n",
      ">> Auto2  still has  9 cards \n",
      "table  [4-O, 5-O]\n",
      "table  [5-C]\n",
      "Salome [sota-O, caballo-O, 7-C, 1-S, 6-S, 7-S, caballo-S, rey-S, 5-B, 7-B]\n",
      ">> Card to play? exit\n"
     ]
    },
    {
     "ename": "BaseException",
     "evalue": "",
     "output_type": "error",
     "traceback": [
      "\u001b[0;31m---------------------------------------------------------------------------\u001b[0m",
      "\u001b[0;31mBaseException\u001b[0m                             Traceback (most recent call last)",
      "\u001b[0;32m<ipython-input-117-cc9e80a09f9e>\u001b[0m in \u001b[0;36m<module>\u001b[0;34m()\u001b[0m\n\u001b[0;32m----> 1\u001b[0;31m \u001b[0mgame\u001b[0m \u001b[0;34m=\u001b[0m \u001b[0mCinquillo\u001b[0m\u001b[0;34m(\u001b[0m\u001b[0;36m3\u001b[0m\u001b[0;34m,\u001b[0m \u001b[0;34m[\u001b[0m\u001b[0;34m'Salome'\u001b[0m\u001b[0;34m]\u001b[0m\u001b[0;34m)\u001b[0m\u001b[0;34m\u001b[0m\u001b[0m\n\u001b[0m",
      "\u001b[0;32m<ipython-input-116-3dc92f830201>\u001b[0m in \u001b[0;36m__init__\u001b[0;34m(self, nplayers, player_names)\u001b[0m\n\u001b[1;32m    102\u001b[0m             \u001b[0mself\u001b[0m\u001b[0;34m.\u001b[0m\u001b[0mplayers\u001b[0m\u001b[0;34m.\u001b[0m\u001b[0mappend\u001b[0m\u001b[0;34m(\u001b[0m\u001b[0mPlayer\u001b[0m\u001b[0;34m(\u001b[0m\u001b[0mname\u001b[0m\u001b[0;34m)\u001b[0m\u001b[0;34m)\u001b[0m\u001b[0;34m\u001b[0m\u001b[0m\n\u001b[1;32m    103\u001b[0m         \u001b[0mself\u001b[0m\u001b[0;34m.\u001b[0m\u001b[0m_start\u001b[0m\u001b[0;34m(\u001b[0m\u001b[0;34m)\u001b[0m\u001b[0;34m\u001b[0m\u001b[0m\n\u001b[0;32m--> 104\u001b[0;31m         \u001b[0mself\u001b[0m\u001b[0;34m.\u001b[0m\u001b[0m_play\u001b[0m\u001b[0;34m(\u001b[0m\u001b[0;34m)\u001b[0m\u001b[0;34m\u001b[0m\u001b[0m\n\u001b[0m\u001b[1;32m    105\u001b[0m         \u001b[0;32mreturn\u001b[0m\u001b[0;34m\u001b[0m\u001b[0m\n\u001b[1;32m    106\u001b[0m \u001b[0;34m\u001b[0m\u001b[0m\n",
      "\u001b[0;32m<ipython-input-116-3dc92f830201>\u001b[0m in \u001b[0;36m_play\u001b[0;34m(self)\u001b[0m\n\u001b[1;32m    115\u001b[0m     \u001b[0;32mdef\u001b[0m \u001b[0m_play\u001b[0m\u001b[0;34m(\u001b[0m\u001b[0mself\u001b[0m\u001b[0;34m)\u001b[0m\u001b[0;34m:\u001b[0m\u001b[0;34m\u001b[0m\u001b[0m\n\u001b[1;32m    116\u001b[0m         \u001b[0;32mfor\u001b[0m \u001b[0mplayer\u001b[0m \u001b[0;32min\u001b[0m \u001b[0mitertools\u001b[0m\u001b[0;34m.\u001b[0m\u001b[0mcycle\u001b[0m\u001b[0;34m(\u001b[0m\u001b[0mself\u001b[0m\u001b[0;34m.\u001b[0m\u001b[0mplayers\u001b[0m\u001b[0;34m)\u001b[0m\u001b[0;34m:\u001b[0m\u001b[0;34m\u001b[0m\u001b[0m\n\u001b[0;32m--> 117\u001b[0;31m             \u001b[0mplayer\u001b[0m\u001b[0;34m.\u001b[0m\u001b[0mplay\u001b[0m\u001b[0;34m(\u001b[0m\u001b[0mself\u001b[0m\u001b[0;34m.\u001b[0m\u001b[0mbank\u001b[0m\u001b[0;34m.\u001b[0m\u001b[0mdisplay\u001b[0m\u001b[0;34m)\u001b[0m\u001b[0;34m\u001b[0m\u001b[0m\n\u001b[0m\u001b[1;32m    118\u001b[0m             \u001b[0;31m#print '# Table ', str(self.bank.display)\u001b[0m\u001b[0;34m\u001b[0m\u001b[0;34m\u001b[0m\u001b[0m\n\u001b[1;32m    119\u001b[0m             \u001b[0;32mif\u001b[0m \u001b[0;34m(\u001b[0m\u001b[0mlen\u001b[0m\u001b[0;34m(\u001b[0m\u001b[0mplayer\u001b[0m\u001b[0;34m.\u001b[0m\u001b[0mhand\u001b[0m\u001b[0;34m.\u001b[0m\u001b[0mcards\u001b[0m\u001b[0;34m)\u001b[0m \u001b[0;34m==\u001b[0m \u001b[0;36m0\u001b[0m\u001b[0;34m)\u001b[0m\u001b[0;34m:\u001b[0m\u001b[0;34m\u001b[0m\u001b[0m\n",
      "\u001b[0;32m<ipython-input-116-3dc92f830201>\u001b[0m in \u001b[0;36mplay\u001b[0;34m(self, desk)\u001b[0m\n\u001b[1;32m     65\u001b[0m             \u001b[0mscard\u001b[0m \u001b[0;34m=\u001b[0m \u001b[0mraw_input\u001b[0m\u001b[0;34m(\u001b[0m\u001b[0;34m'>> Card to play? '\u001b[0m\u001b[0;34m)\u001b[0m\u001b[0;34m\u001b[0m\u001b[0m\n\u001b[1;32m     66\u001b[0m             \u001b[0;32mif\u001b[0m \u001b[0;34m(\u001b[0m\u001b[0mscard\u001b[0m \u001b[0;34m==\u001b[0m \u001b[0;34m'exit'\u001b[0m\u001b[0;34m)\u001b[0m\u001b[0;34m:\u001b[0m\u001b[0;34m\u001b[0m\u001b[0m\n\u001b[0;32m---> 67\u001b[0;31m                 \u001b[0;32mraise\u001b[0m \u001b[0mBaseException\u001b[0m\u001b[0;34m\u001b[0m\u001b[0m\n\u001b[0m\u001b[1;32m     68\u001b[0m             \u001b[0maccept\u001b[0m\u001b[0;34m,\u001b[0m \u001b[0micard\u001b[0m \u001b[0;34m=\u001b[0m \u001b[0mself\u001b[0m\u001b[0;34m.\u001b[0m\u001b[0mvalid_input\u001b[0m\u001b[0;34m(\u001b[0m\u001b[0mscard\u001b[0m\u001b[0;34m,\u001b[0m \u001b[0mdesk\u001b[0m\u001b[0;34m)\u001b[0m\u001b[0;34m\u001b[0m\u001b[0m\n\u001b[1;32m     69\u001b[0m             \u001b[0;32mif\u001b[0m \u001b[0;34m(\u001b[0m\u001b[0maccept\u001b[0m \u001b[0;32mand\u001b[0m \u001b[0micard\u001b[0m\u001b[0;34m)\u001b[0m\u001b[0;34m:\u001b[0m\u001b[0;34m\u001b[0m\u001b[0m\n",
      "\u001b[0;31mBaseException\u001b[0m: "
     ]
    }
   ],
   "source": [
    "game = Cinquillo(3, ['Salome'])"
   ]
  },
  {
   "cell_type": "markdown",
   "metadata": {},
   "source": [
    "Now, write a smarter player than AutoPlayer!"
   ]
  },
  {
   "cell_type": "markdown",
   "metadata": {},
   "source": [
    "### Do not write classes!\n",
    "\n",
    "Python supports OO programming with loose inforcement of inheritance (as we have seen), but there is a fashion programing school that recomends you to \"do not write classes!\"\n",
    "\n",
    "The argument is that classes are \"closed\" or \"encapsulated\" code, more difficult to reuse, and that methods are better off, more reusable, outside the class definition. They maybe right!\n",
    "\n",
    "Nevetheless sometimes there are data structures that call you to \"encapsulate\" them into a class, and sometimes this structure is showing you a internal composition, calling also for \"inheritance\". Write them better into classes and derived classes! \n",
    "\n",
    "What I recomend you is to keep things simple, do not implement classes if you do not need them, and prefer classes only for data types. But these are only a recomendations. Experiment yourself!"
   ]
  },
  {
   "cell_type": "code",
   "execution_count": null,
   "metadata": {
    "collapsed": true
   },
   "outputs": [],
   "source": []
  }
 ],
 "metadata": {
  "anaconda-cloud": {},
  "kernelspec": {
   "display_name": "Python [Root]",
   "language": "python",
   "name": "Python [Root]"
  },
  "language_info": {
   "codemirror_mode": {
    "name": "ipython",
    "version": 2
   },
   "file_extension": ".py",
   "mimetype": "text/x-python",
   "name": "python",
   "nbconvert_exporter": "python",
   "pygments_lexer": "ipython2",
   "version": "2.7.12"
  }
 },
 "nbformat": 4,
 "nbformat_minor": 0
}
