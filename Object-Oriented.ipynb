{
 "cells": [
  {
   "cell_type": "markdown",
   "metadata": {},
   "source": [
    "# Python Course on Classes and Functional Programming\n",
    "\n",
    "## Object Oriented Programming"
   ]
  },
  {
   "cell_type": "code",
   "execution_count": null,
   "metadata": {
    "collapsed": true
   },
   "outputs": [],
   "source": [
    "import time\n",
    "print ' Last revision ', time.asctime()"
   ]
  },
  {
   "cell_type": "markdown",
   "metadata": {},
   "source": [
    "---- \n",
    "### About OO\n",
    "\n",
    "Object Oriented programming is a computing paradigm that stablish that a program is a composed with objects and the relations between them. Each object is a class, and it can change state along the program. \n",
    "\n",
    "The main advetange of OO code is that is very modular. Classes provides the users with a tool-box. It is like a *lego* game, you use the objects as pieces of *lego* to built your programs. \n",
    "The code is very reasuble. The main disaventage is that OO has well defined pieces, the classes, but it does not define the program. To understand how a program works you need to follow how the objects relate between themselves and change status along the program. Sometimes this is a *detectivesque* task. The pieces of the your computing program are well identifies (the classes), but the interaction between them (the structure, the program itself) it is not.\n",
    "\n",
    "There are some computing problems that fit nicely into the OO programming. If you decide to structure your program using OO programming, you should analyize the different elements of your problem, what are its abstraction, how they relate. It requires a deep analyses before to start to write. OO forces you to deeply think in your conpyting problem!"
   ]
  },
  {
   "cell_type": "markdown",
   "metadata": {},
   "source": [
    "### An example. A game of cards.\n",
    "\n",
    "Let's consider the following problem: we want to make a computer program to play a game of cards. If we follow an OO approach, we first need to identify its elements and then set the relations between then, its changes along the play. Let's try.\n",
    "\n",
    "#### The cards\n",
    "\n",
    "A game of cards has a deck, a the collection of cards. The Spanish desk has 40 cards. They are organized into four suits: gold coins, cups, swords and clubs. Each suit ranks from the ace, that is followed by the numbers 2 to 7, and the three figures, page, knight and king.\n",
    "From here one will define a class for *Card* and another for *Desk*. Card will have as attributes the rank and the suit, while the Desk will have the 40 cards.\n",
    "\n",
    "A posible definition"
   ]
  },
  {
   "cell_type": "code",
   "execution_count": 16,
   "metadata": {
    "collapsed": false
   },
   "outputs": [],
   "source": [
    "import random\n",
    "\n",
    "class Card:\n",
    "    \n",
    "    def __init__(self, suit, rank):\n",
    "        self.suit = suit\n",
    "        self.rank = rank\n",
    "        return\n",
    "    \n",
    "    def __str__(self):\n",
    "        return str(self.rank)+'-'+str(self.suit)\n",
    "    \n",
    "    def __repr__(self):\n",
    "        return str(self)\n",
    "    \n",
    "class Desk:\n",
    "    \n",
    "    # suits = ['gold coins', 'cups', 'swords', 'clubs']\n",
    "    suits = ['O', 'C', 'S', 'B'] # short cuts for the suits\n",
    "    ranks = ['1', '2' , '3', '4', '5', '6', '7', 'page', 'knight', 'king']\n",
    "    \n",
    "    def __init__(self):\n",
    "        \"\"\" create the spanish desk\n",
    "        \"\"\"\n",
    "        self.cards = [Card(suit, rank) for suit in self.suits for rank in self.ranks]\n",
    "        return\n",
    "        \n",
    "    def shuffle(self):\n",
    "        \"\"\" shuffle the cards\n",
    "        \"\"\"\n",
    "        random.shuffle(self.cards)\n",
    "        return\n",
    "    "
   ]
  },
  {
   "cell_type": "markdown",
   "metadata": {},
   "source": [
    "Lets tesk it!"
   ]
  },
  {
   "cell_type": "code",
   "execution_count": 17,
   "metadata": {
    "collapsed": false
   },
   "outputs": [
    {
     "name": "stdout",
     "output_type": "stream",
     "text": [
      "O [1-O, 2-O, 3-O, 4-O, 5-O, 6-O, 7-O, page-O, knight-O, king-O]\n",
      "C [1-C, 2-C, 3-C, 4-C, 5-C, 6-C, 7-C, page-C, knight-C, king-C]\n",
      "S [1-S, 2-S, 3-S, 4-S, 5-S, 6-S, 7-S, page-S, knight-S, king-S]\n",
      "B [1-B, 2-B, 3-B, 4-B, 5-B, 6-B, 7-B, page-B, knight-B, king-B]\n",
      "suffle  [king-B, page-C, king-O, knight-B, 4-O, 4-S, 3-B, 1-O, 7-B, 6-O]\n"
     ]
    }
   ],
   "source": [
    "desk = Desk()\n",
    "for i in range(4):\n",
    "    print desk.suits[i], desk.cards[10*i:10*i+10]\n",
    "    \n",
    "desk.shuffle()\n",
    "print 'suffle ', desk.cards[:10]"
   ]
  },
  {
   "cell_type": "markdown",
   "metadata": {},
   "source": [
    "#### The game\n",
    "\n",
    "Let's now see tha part of the game.\n",
    "\n",
    "Each game will have now players. In almost all the games, at the start, the desk is shuffle and each player gets a number of cards, and the rest is placed on the table on the stock pile, some maybe places on the table face up. The game proceeds in tours. Each player does a movement, in most of the cases, he takes one card from his hand and place on the table face up or on the pile of discarted cards, face down. After a turn, when all playes have play his hadn, some of the cards are discarted and put them into the discarted pile, score is update and the game continous or stop. How we defined this in OO? We have a *Player* class, fine, and maybe a *Pile* classes. These are more or less classes that are associated to 'real' object. But in addition we need to define a class for the entire game, *Game*, that must be the master object, one per game, that knows about the desk, players, cards on the stock and discarted piles, on the table, and has the score with the players ranks. *Game* now has not mateial equivalent as do *Card* or *Player*. *Game* has the main driver of the game, some method *go()*, some method *start()*, some methods *tourn()* that call each of the players. After the tourn, most likely the game wants to update the players ranks. When the game ends, we must get the final score *finish()*.\n",
    "\n",
    "Notice that we have discussed in an abstract way the elements of the game. We have almost defined the 'virtual' classes. Let's give a try: "
   ]
  },
  {
   "cell_type": "code",
   "execution_count": null,
   "metadata": {
    "collapsed": true
   },
   "outputs": [],
   "source": [
    "def Player:\n",
    "\n",
    "    def __init__(self, name, cards = [], score = 0):\n",
    "        self.name = name\n",
    "        self.hand = cards\n",
    "        self.score = score\n",
    "        return\n",
    "\n",
    "def Pile:\n",
    "    \n",
    "    def __init__(self):\n",
    "        self.stock = Desk()\n",
    "        self.discarted = []\n",
    "        self.display = []\n",
    "    \n",
    "    def card(self):\n",
    "        if (len(self.stock) <=0): \n",
    "            raise EndGame\n",
    "        return card = self.stock.pop()\n",
    "    \n",
    "    def display(self, card):\n",
    "        self.displayed_cards.append(card)\n",
    "    \n",
    "        \n",
    "    def discard(self, card):\n",
    "        self.discarted_pile.append(card)\n",
    "        return\n",
    "        \n",
    "    def discard_displayed(self, card):\n",
    "        return NOne\n",
    "\n",
    "        \n",
    "def Game:\n",
    "\n",
    "    def __init__(self, player_names):\n",
    "        self.desk = Desk()\n",
    "        self.stock_pile = []\n",
    "        self.discarted_pile = []\n",
    "        self.displayed_cards = []\n",
    "        self.players = [Player(name) for name in player_names] \n",
    "        return\n",
    "    \n",
    "    def go(self):\n",
    "        self._start()\n",
    "        while (not self._end_game()):\n",
    "            self._tourn()\n",
    "        self._finish()    \n",
    "    \n",
    "   \n",
    "        \n",
    "        "
   ]
  },
  {
   "cell_type": "markdown",
   "metadata": {},
   "source": [
    "### Do not write classes!\n",
    "\n",
    "Python supports OO programming with loose inforcement of inheritance (as we have seen), but there is a fashion programing school that recomends you to \"do not write classes!\"\n",
    "\n",
    "The argument is that classes are \"closed\" or \"encapsulated\" code, more difficult to reuse, and that methods are better off, more reusable, outside the class definition. They maybe right!\n",
    "\n",
    "Nevetheless sometimes there are data structures that call you to \"encapsulate\" them into a class, and sometimes this structure is showing you a internal composition, calling also for \"inheritance\". Write them better into classes and derived classes! \n",
    "\n",
    "What I recomend you is to keep things simple, do not implement classes if you do not need them, and prefer classes only for data types. But these are only a recomendations. Experiment yourself!"
   ]
  }
 ],
 "metadata": {
  "kernelspec": {
   "display_name": "Python [Root]",
   "language": "python",
   "name": "Python [Root]"
  },
  "language_info": {
   "codemirror_mode": {
    "name": "ipython",
    "version": 2
   },
   "file_extension": ".py",
   "mimetype": "text/x-python",
   "name": "python",
   "nbconvert_exporter": "python",
   "pygments_lexer": "ipython2",
   "version": "2.7.12"
  }
 },
 "nbformat": 4,
 "nbformat_minor": 0
}
