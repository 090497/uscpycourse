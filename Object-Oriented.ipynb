{
 "cells": [
  {
   "cell_type": "markdown",
   "metadata": {},
   "source": [
    "# Python Course on Classes and Functional Programming\n",
    "\n",
    "#### *J.A. Hernando, USC, 2016*\n",
    "\n",
    "## Object Oriented Programming"
   ]
  },
  {
   "cell_type": "code",
   "execution_count": 1,
   "metadata": {
    "collapsed": false
   },
   "outputs": [
    {
     "name": "stdout",
     "output_type": "stream",
     "text": [
      " Last revision  Mon Nov  7 23:52:35 2016\n"
     ]
    }
   ],
   "source": [
    "import time\n",
    "print ' Last revision ', time.asctime()"
   ]
  },
  {
   "cell_type": "markdown",
   "metadata": {},
   "source": [
    "---- \n",
    "### About OO\n",
    "\n",
    "Object Oriented programming is a computing paradigm that stablish that a program is a composed with objects and the relations between them. Each object is an instance of a generic class, and it can change state along the program. \n",
    "\n",
    "The main adventage of OO code is that is very modular. Classes provides the users with a tool-box. It is like a *lego* game, you use the objects as pieces of *lego* to built your programs. \n",
    "OO code is very reasuble. It has well defined pieces, the classes, but it does not define the program. To understand how a program works you need to follow how the objects relate between themselves and change status along the program. Sometimes this is not an easy task! In OO the pieces of the your computing program are very well identifies (the classes), but the interaction between them (the structure, the program itself) it is not.\n",
    "\n",
    "There are some computing problems that fit nicely into the OO programming. If you decide to structure your program using OO programming, you should analyize the different elements of your problem, what are its abstraction, how they relate. It requires a deep analyses before to start to write. OO forces you to deeply think in your conpyting problem! Sometimes it can be desesperating! But we you find the 'structure' behind your program, you have the impression of 'seeing the light!'"
   ]
  },
  {
   "cell_type": "markdown",
   "metadata": {},
   "source": [
    "### An example. A game of cards.\n",
    "\n",
    "I consider games fits nicely into the OO paradigm. They have defined players, rules and interactions. The OO just mimic the 'real' game.\n",
    "\n",
    "Let's program a game of cards. If we follow an OO approach, we first need to identify its elements and then set the relations between then. How they change along the play. In the following we discuss the elements of a 'generic' card game, and later we implement a concrete game with a Spanish desk, my grand-mother favorite: 'El cinquillo' (she expended many afternoons playing it with her female friends in her small village in Aragon!)\n",
    "\n",
    "#### The cards\n",
    "\n",
    "A game of cards has a deck. The full collection of cards. The Spanish desk has 40 cards. They are organized into four suits: gold coins, cups, swords and clubs. Each suit ranks from the ace, that is followed by the numbers 2 to 7, and the three figures, page, knight and king.\n",
    "From here one will define a class for *Card* and another for *Desk*. Card will have as attributes the rank and the suit, while the Desk will have the 40 cards. "
   ]
  },
  {
   "cell_type": "code",
   "execution_count": 2,
   "metadata": {
    "collapsed": false
   },
   "outputs": [],
   "source": [
    "import random\n",
    "\n",
    "class Card:\n",
    "    \n",
    "    def __init__(self, rank, suit):\n",
    "        self.rank = rank\n",
    "        self.suit = suit\n",
    "        return\n",
    "        \n",
    "    def __str__(self):\n",
    "        return str(self.rank)+'-'+str(self.suit)\n",
    "    \n",
    "    def __repr__(self):\n",
    "        return str(self)\n",
    "    \n",
    "    def __eq__(self, card):\n",
    "        return (str(card) == str(self))\n",
    "    \n",
    "class SpanishDesk:\n",
    "    \n",
    "    # suits = ['gold coins', 'cups', 'swords', 'clubs']\n",
    "    suits = ['O', 'C', 'S', 'B'] # short cuts for the suits\n",
    "    ranks = ['1', '2' , '3', '4', '5', '6', '7', 'page', 'knight', 'king']\n",
    "    \n",
    "    def __init__(self):\n",
    "        \"\"\" create the spanish desk\n",
    "        \"\"\"\n",
    "        self.cards = [Card(rank, suit) for suit in self.suits for rank in self.ranks]\n",
    "        return\n",
    "            "
   ]
  },
  {
   "cell_type": "markdown",
   "metadata": {},
   "source": [
    "Lets tesk it!"
   ]
  },
  {
   "cell_type": "code",
   "execution_count": 3,
   "metadata": {
    "collapsed": false
   },
   "outputs": [
    {
     "name": "stdout",
     "output_type": "stream",
     "text": [
      "O [1-O, 2-O, 3-O, 4-O, 5-O, 6-O, 7-O, page-O, knight-O, king-O]\n",
      "C [1-C, 2-C, 3-C, 4-C, 5-C, 6-C, 7-C, page-C, knight-C, king-C]\n",
      "S [1-S, 2-S, 3-S, 4-S, 5-S, 6-S, 7-S, page-S, knight-S, king-S]\n",
      "B [1-B, 2-B, 3-B, 4-B, 5-B, 6-B, 7-B, page-B, knight-B, king-B]\n"
     ]
    }
   ],
   "source": [
    "desk = SpanishDesk()\n",
    "for i in range(4):\n",
    "    print desk.suits[i], desk.cards[10*i:10*i+10]"
   ]
  },
  {
   "cell_type": "markdown",
   "metadata": {},
   "source": [
    "### The game\n",
    "\n",
    "#### The desk\n",
    "\n",
    "Each game will have players. In almost all the games, at the start, the desk is shuffle and each player gets a number of cards, and the rest of the cards are placed on a stock pile, and maybe some cards are displayed on the table face up. A game usually proceeds in tourns. At each tourn, each player does a movement, either he takes one card from his hand and place on the table face up or on the pile of discarted cards, face down. In some games the player gets an score after playing his tourn. In others, the game ends with cards are exhausted or a condition is met. How we defined this in OO? We have a *Player* class, certainly. We have also the *Bank*, that holds the stock of the cards, the cards on display, and the discarted cards, depends on the game. All of them are set of cards, or *desks* of cards.\n",
    "\n",
    "We realize that most of the interactions in the game are related with moving a card or cards from a pile to the hand of the player to the discated pile, to pile to pile, etc. The concept of pile and hand (the cards of a player) are similar: a set of cards. Should we use *Desk* to define set of cards and create a full desk for the Spanish desk? Can we provide to *Desk* the methods to handle cards between *desks*? Let's see if it works:"
   ]
  },
  {
   "cell_type": "code",
   "execution_count": 4,
   "metadata": {
    "collapsed": false
   },
   "outputs": [],
   "source": [
    "class Desk:\n",
    "    \n",
    "    def __init__(self):\n",
    "        self.cards = []\n",
    "        return\n",
    "    \n",
    "    def shuffle(self):\n",
    "        random.shuffle(self.cards)\n",
    "        return\n",
    "        \n",
    "    def take(self, desk, n = 1):\n",
    "        for i in range(n):\n",
    "            card = desk.cards.pop()\n",
    "            self.cards.append(card)\n",
    "        return\n",
    "    \n",
    "    def give(self, card, desk):\n",
    "        self.cards.remove(card)\n",
    "        desk.cards.append(card)\n",
    "        return\n",
    "    \n",
    "    def __str__(self):\n",
    "        return str(self.cards)\n",
    "\n",
    "class SpanishDesk(Desk):\n",
    "    \n",
    "    # suits = ['gold coins', 'cups', 'swords', 'clubs']\n",
    "    suits = ['O', 'C', 'S', 'B'] # short cuts for the suits\n",
    "    ranks = ['1', '2' , '3', '4', '5', '6', '7', 'sota', 'caballo', 'rey']\n",
    "    \n",
    "    def __init__(self):\n",
    "        \"\"\" create the spanish desk\n",
    "        \"\"\"\n",
    "        self.cards = [Card(rank, suit) for rank in self.ranks for suit in self.suits]\n",
    "        return\n",
    "\n",
    "    @staticmethod\n",
    "    def compare(card1, card2):\n",
    "        s1 = SpanishDesk.suits.index(card1.suit)\n",
    "        s2 = SpanishDesk.suits.index(card2.suit)\n",
    "        if (s1 < s2): \n",
    "            return -1  \n",
    "        elif (s1 > s2):\n",
    "            return 1\n",
    "        r1 = SpanishDesk.ranks.index(card1.rank)\n",
    "        r2 = SpanishDesk.ranks.index(card2.rank)\n",
    "        if (r1 < r2):\n",
    "            return -1\n",
    "        elif (r1 > r2):\n",
    "            return 1\n",
    "        return 0        "
   ]
  },
  {
   "cell_type": "markdown",
   "metadata": {},
   "source": [
    "Some testing of the code:"
   ]
  },
  {
   "cell_type": "code",
   "execution_count": 5,
   "metadata": {
    "collapsed": false
   },
   "outputs": [
    {
     "name": "stdout",
     "output_type": "stream",
     "text": [
      " pile1  [rey-B, rey-S, rey-C, rey-O, caballo-B]\n",
      " desk  [1-O, 1-C, 1-S, 1-B, 2-O, 2-C, 2-S, 2-B, 3-O, 3-C, 3-S, 3-B, 4-O, 4-C, 4-S, 4-B, 5-O, 5-C, 5-S, 5-B, 6-O, 6-C, 6-S, 6-B, 7-O, 7-C, 7-S, 7-B, sota-O, sota-C, sota-S, sota-B, caballo-O, caballo-C, caballo-S]\n",
      " desk has  5-B ?  True\n",
      " pile has  5-B ?  False\n",
      " pile (shuffled)  [caballo-B, rey-B, rey-O, rey-S, rey-C]\n",
      " pile (sorted)  [rey-O, rey-C, rey-S, caballo-B, rey-B]\n"
     ]
    }
   ],
   "source": [
    "desk = SpanishDesk()\n",
    "pile1 = Desk()\n",
    "\n",
    "# pile1 takes 5 cards from the dest \n",
    "pile1.take(desk, 5)\n",
    "print ' pile1 ', pile1\n",
    "print ' desk ', desk\n",
    "\n",
    "# create card 5-Bastos, where is it?\n",
    "b5 = Card('5','B')\n",
    "print ' desk has ', b5, '? ', (b5 in desk.cards)\n",
    "print ' pile has ', b5, '? ', (b5 in pile1.cards)\n",
    "\n",
    "# shuffle the pile1 and then sort it back!\n",
    "pile1.shuffle()\n",
    "print ' pile (shuffled) ', pile1\n",
    "pile1 = sorted(pile1.cards, cmp = SpanishDesk.compare)\n",
    "print ' pile (sorted) ', pile1"
   ]
  },
  {
   "cell_type": "markdown",
   "metadata": {},
   "source": [
    "#### The players, the bank, the game!\n",
    "\n",
    "Now we need to define who interacts in the game and how. From one side, there are the players, and from the other, the 'bank'. In most of the cases the 'bank' is passive, it just have some pile of cards: the stock, the discarted cards, or maybe some cards in display, face up. Players interact with the 'bank' taking a card from one pile and puting in another, or taking a card from his hand and puting it in some of piles. In OO, the elements *Player* and *Bank* interact via *Desk*s, passing a card from one *desks* to another.\n",
    "\n",
    "*Player*, *Bank* are more or less classes that are associated to 'real' object. But in addition we need to define a class for the entire game, *Game*, that must be the master object, one per game, that knows about the bank, the players, cards and and starts, drives and ends the game.\n",
    "It will take care of asking players to play. Players will also need to decide what card to play! The game will ask then to play! \n",
    "\n",
    "Somehow we hace identified: *Player*, *Bank* and *Game*, as general classes."
   ]
  },
  {
   "cell_type": "markdown",
   "metadata": {},
   "source": [
    "#### 'El Cinquillo'\n",
    "\n",
    "Now let's implement 'El cinquillo', my grandmother Salome favorite card game (see https://es.wikipedia.org/wiki/Cinquillo_(juego) ). \n",
    "\n",
    "At the start of 'El cinquillo', the bank deals all the cards with the players. It starts the player with the five of golden coins, that is put face up on the table. The players go in turns, they put either a five or a card that is continous to the ones in display. For example, tf there is only the five of gold coins, the player can either put the four or six of gold coins, or a five of other suit. The first player that ends with no cards, wins! Simple!\n",
    "\n",
    "We are going to implement a *Game* class, *Cinquillo*. We are going to make two types of players, *Player*, a manual one, the computer will ask for the card to put on the table at each time; and an *automatic* player, *AutoPlayer*, that will follow an internal logic. Our *automatic player* will just look at he possible cards to play, and select one at random, (a *stupit* player!)."
   ]
  },
  {
   "cell_type": "markdown",
   "metadata": {},
   "source": [
    "\n",
    "Someone should take the decision to put a card on display. It seems the most natural that the *Player* or *AutoPlayer* will do so. The *Game* will ask then to play. It will need to pass to *players* the *bank*, pleayers will know what cards are on display and decide what to play.\n",
    "\n",
    "This is a temtative proposal of classes for *Bank*, *Player*, *AutoPlayer* and *Game, Cinquillo*."
   ]
  },
  {
   "cell_type": "code",
   "execution_count": 6,
   "metadata": {
    "collapsed": false
   },
   "outputs": [],
   "source": [
    "import itertools\n",
    "import random\n",
    "\n",
    "class Bank:\n",
    "    \n",
    "    def __init__(self):\n",
    "        self.stock = SpanishDesk()\n",
    "        self.stock.shuffle()\n",
    "        self.display = Desk()\n",
    "        return\n",
    "    \n",
    "    def valid_card(self, card):\n",
    "        cards = self.display.cards\n",
    "        O5 = Card('5','O')\n",
    "        if (not O5 in cards):\n",
    "            return (card == O5)\n",
    "        if (card.rank == '5'):\n",
    "            return True\n",
    "        ipos = SpanishDesk.ranks.index(card.rank)\n",
    "        i0 = max(ipos-1, 0)\n",
    "        i1 = min(ipos+1, len(SpanishDesk.ranks)-1)\n",
    "        iicards = [Card(SpanishDesk.ranks[ii], card.suit) for ii in (i0,i1)]\n",
    "        return any([(icard in cards) for icard in iicards])\n",
    "\n",
    "    def show_cards(self):\n",
    "        cards = self.display.cards\n",
    "        if (len(cards) <= 0): \n",
    "            return\n",
    "        elif (len(cards) > 1): \n",
    "            cards = sorted(cards, cmp = SpanishDesk.compare)\n",
    "        for suit in SpanishDesk.suits:\n",
    "            scards = [card for card in cards if card.suit == suit]\n",
    "            if (len(scards) > 0):\n",
    "                print 'table ', scards\n",
    "        return\n",
    "\n",
    "class Player:\n",
    "\n",
    "    def __init__(self, name, show=True):\n",
    "        self.name = name\n",
    "        self.hand = Desk()\n",
    "        self.show = show\n",
    "        return\n",
    "    \n",
    "    def show_cards(self):\n",
    "        self.hand.cards = sorted(self.hand.cards, cmp = SpanishDesk.compare)\n",
    "        print str(self)\n",
    "        return\n",
    "    \n",
    "    def _show(self, bank):\n",
    "        bank.show_cards()\n",
    "        self.show_cards()\n",
    "        cards = self.cards_to_play(bank)\n",
    "        print 'to play', cards\n",
    "        return\n",
    "    \n",
    "    def input_card(self, scard, bank):\n",
    "        accept, icard = False, None\n",
    "        if (scard == ''): \n",
    "            can = self.can_play(bank)\n",
    "            if (not can): return True, None\n",
    "        elif (scard.find('-')>0):\n",
    "            rank, suit = scard.split('-')\n",
    "            icard = Card(rank, suit)\n",
    "            accept = ((icard in self.hand.cards) and bank.valid_card(icard))            \n",
    "        return accept, icard\n",
    "    \n",
    "    def cards_to_play(self, bank):\n",
    "        cards = [card for card in self.hand.cards if bank.valid_card(card)]\n",
    "        return cards\n",
    "    \n",
    "    def can_play(self, bank):\n",
    "        return any([bank.valid_card(card) for card in self.hand.cards])\n",
    "            \n",
    "    def _do_play(self, card, bank):\n",
    "        self.hand.give(card, bank.display)\n",
    "        print self.name, ' plays ', card\n",
    "        print self.name, ' still has ', len(self.hand.cards), 'cards '\n",
    "        return\n",
    "        \n",
    "    def play(self, bank):\n",
    "        if (self.show):\n",
    "            self._show(bank)\n",
    "        accept = False\n",
    "        while (not accept):\n",
    "            scard = raw_input('select card to play? ')\n",
    "            if (scard == 'exit'): \n",
    "                raise BaseException\n",
    "            accept, icard = self.input_card(scard, bank)\n",
    "            if (not accept):\n",
    "                print 'not valid move! '              \n",
    "        if (scard != ''): \n",
    "            self._do_play(icard, bank)\n",
    "        else:\n",
    "            print self.name,' passes'\n",
    "        return accept\n",
    "                \n",
    "    def __str__(self):\n",
    "        return str(self.name)+' '+str(self.hand.cards)\n",
    "    \n",
    "class AutoPlayer(Player):\n",
    "        \n",
    "    def play(self, bank):\n",
    "        if (self.show):\n",
    "            self._show()\n",
    "        if (not self.can_play(bank)):\n",
    "            print self.name, 'passes'\n",
    "            return False\n",
    "        cards = self.cards_to_play(bank)\n",
    "        card = random.sample(cards, 1)[0]\n",
    "        self._do_play(card, bank)\n",
    "        return True\n",
    "\n",
    "class Cinquillo:\n",
    "    \n",
    "    def __init__(self, nplayers, player_name, show=False):\n",
    "        self.bank = Bank()\n",
    "        self.players = [AutoPlayer('Auto'+str(i), show=show) for i in range(nplayers-1)]\n",
    "        self.players.append(Player(player_name, show=True))\n",
    "        self._start()\n",
    "        self._play()\n",
    "        return       \n",
    "    \n",
    "    def _start(self):\n",
    "        for player in itertools.cycle(self.players):\n",
    "            try:\n",
    "                player.hand.take(self.bank.stock)\n",
    "            except IndexError:\n",
    "                break\n",
    "        return\n",
    "    \n",
    "    def _play(self):\n",
    "        for player in itertools.cycle(self.players):\n",
    "            player.play(self.bank)\n",
    "            if (len(player.hand.cards) == 0):\n",
    "                print player.name, ' wins!!!'\n",
    "                break    \n",
    "    "
   ]
  },
  {
   "cell_type": "markdown",
   "metadata": {},
   "source": [
    "Let's play it!"
   ]
  },
  {
   "cell_type": "code",
   "execution_count": 7,
   "metadata": {
    "collapsed": false
   },
   "outputs": [
    {
     "name": "stdout",
     "output_type": "stream",
     "text": [
      "Auto0 passes\n",
      "Auto1 passes\n",
      "Auto2 passes\n",
      "Salome [5-O, caballo-O, 3-C, 7-C, 4-S, 5-S, 6-S, 6-B, 7-B, rey-B]\n",
      "to play [5-O]\n",
      "select card to play? 5-0\n",
      "not valid move! \n",
      "select card to play? 5-O\n",
      "Salome  plays  5-O\n",
      "Salome  still has  9 cards \n",
      "Auto0  plays  4-O\n",
      "Auto0  still has  9 cards \n",
      "Auto1  plays  3-O\n",
      "Auto1  still has  9 cards \n",
      "Auto2  plays  5-C\n",
      "Auto2  still has  9 cards \n",
      "table  [3-O, 4-O, 5-O]\n",
      "table  [5-C]\n",
      "Salome [caballo-O, 3-C, 7-C, 4-S, 5-S, 6-S, 6-B, 7-B, rey-B]\n",
      "to play [5-S]\n",
      "select card to play? 5-S\n",
      "Salome  plays  5-S\n",
      "Salome  still has  8 cards \n",
      "Auto0  plays  2-O\n",
      "Auto0  still has  8 cards \n",
      "Auto1  plays  6-O\n",
      "Auto1  still has  8 cards \n",
      "Auto2  plays  5-B\n",
      "Auto2  still has  8 cards \n",
      "table  [2-O, 3-O, 4-O, 5-O, 6-O]\n",
      "table  [5-C]\n",
      "table  [5-S]\n",
      "table  [5-B]\n",
      "Salome [caballo-O, 3-C, 7-C, 4-S, 6-S, 6-B, 7-B, rey-B]\n",
      "to play [4-S, 6-S, 6-B]\n",
      "select card to play? 4-S\n",
      "Salome  plays  4-S\n",
      "Salome  still has  7 cards \n",
      "Auto0  plays  7-O\n",
      "Auto0  still has  7 cards \n",
      "Auto1  plays  6-C\n",
      "Auto1  still has  7 cards \n",
      "Auto2  plays  3-S\n",
      "Auto2  still has  7 cards \n",
      "table  [2-O, 3-O, 4-O, 5-O, 6-O, 7-O]\n",
      "table  [5-C, 6-C]\n",
      "table  [3-S, 4-S, 5-S]\n",
      "table  [5-B]\n",
      "Salome [caballo-O, 3-C, 7-C, 6-S, 6-B, 7-B, rey-B]\n",
      "to play [7-C, 6-S, 6-B]\n",
      "select card to play? 7-C\n",
      "Salome  plays  7-C\n",
      "Salome  still has  6 cards \n",
      "Auto0  plays  1-O\n",
      "Auto0  still has  6 cards \n",
      "Auto1  plays  4-C\n",
      "Auto1  still has  6 cards \n",
      "Auto2  plays  sota-C\n",
      "Auto2  still has  6 cards \n",
      "table  [1-O, 2-O, 3-O, 4-O, 5-O, 6-O, 7-O]\n",
      "table  [4-C, 5-C, 6-C, 7-C, sota-C]\n",
      "table  [3-S, 4-S, 5-S]\n",
      "table  [5-B]\n",
      "Salome [caballo-O, 3-C, 6-S, 6-B, 7-B, rey-B]\n",
      "to play [3-C, 6-S, 6-B]\n",
      "select card to play? 3-C\n",
      "Salome  plays  3-C\n",
      "Salome  still has  5 cards \n",
      "Auto0  plays  2-C\n",
      "Auto0  still has  5 cards \n",
      "Auto1  plays  1-C\n",
      "Auto1  still has  5 cards \n",
      "Auto2  plays  sota-O\n",
      "Auto2  still has  5 cards \n",
      "table  [1-O, 2-O, 3-O, 4-O, 5-O, 6-O, 7-O, sota-O]\n",
      "table  [1-C, 2-C, 3-C, 4-C, 5-C, 6-C, 7-C, sota-C]\n",
      "table  [3-S, 4-S, 5-S]\n",
      "table  [5-B]\n",
      "Salome [caballo-O, 6-S, 6-B, 7-B, rey-B]\n",
      "to play [caballo-O, 6-S, 6-B]\n",
      "select card to play? caballo-O\n",
      "Salome  plays  caballo-O\n",
      "Salome  still has  4 cards \n",
      "Auto0 passes\n",
      "Auto1  plays  rey-O\n",
      "Auto1  still has  4 cards \n",
      "Auto2  plays  4-B\n",
      "Auto2  still has  4 cards \n",
      "table  [1-O, 2-O, 3-O, 4-O, 5-O, 6-O, 7-O, sota-O, caballo-O, rey-O]\n",
      "table  [1-C, 2-C, 3-C, 4-C, 5-C, 6-C, 7-C, sota-C]\n",
      "table  [3-S, 4-S, 5-S]\n",
      "table  [4-B, 5-B]\n",
      "Salome [6-S, 6-B, 7-B, rey-B]\n",
      "to play [6-S, 6-B]\n",
      "select card to play? 6-S\n",
      "Salome  plays  6-S\n",
      "Salome  still has  3 cards \n",
      "Auto0  plays  3-B\n",
      "Auto0  still has  4 cards \n",
      "Auto1  plays  2-B\n",
      "Auto1  still has  3 cards \n",
      "Auto2  plays  caballo-C\n",
      "Auto2  still has  3 cards \n",
      "table  [1-O, 2-O, 3-O, 4-O, 5-O, 6-O, 7-O, sota-O, caballo-O, rey-O]\n",
      "table  [1-C, 2-C, 3-C, 4-C, 5-C, 6-C, 7-C, sota-C, caballo-C]\n",
      "table  [3-S, 4-S, 5-S, 6-S]\n",
      "table  [2-B, 3-B, 4-B, 5-B]\n",
      "Salome [6-B, 7-B, rey-B]\n",
      "to play [6-B]\n",
      "select card to play? 6-B\n",
      "Salome  plays  6-B\n",
      "Salome  still has  2 cards \n",
      "Auto0  plays  rey-C\n",
      "Auto0  still has  3 cards \n",
      "Auto1  plays  2-S\n",
      "Auto1  still has  2 cards \n",
      "Auto2 passes\n",
      "table  [1-O, 2-O, 3-O, 4-O, 5-O, 6-O, 7-O, sota-O, caballo-O, rey-O]\n",
      "table  [1-C, 2-C, 3-C, 4-C, 5-C, 6-C, 7-C, sota-C, caballo-C, rey-C]\n",
      "table  [2-S, 3-S, 4-S, 5-S, 6-S]\n",
      "table  [2-B, 3-B, 4-B, 5-B, 6-B]\n",
      "Salome [7-B, rey-B]\n",
      "to play [7-B]\n",
      "select card to play? 7-B\n",
      "Salome  plays  7-B\n",
      "Salome  still has  1 cards \n",
      "Auto0  plays  7-S\n",
      "Auto0  still has  2 cards \n",
      "Auto1  plays  1-S\n",
      "Auto1  still has  1 cards \n",
      "Auto2  plays  sota-B\n",
      "Auto2  still has  2 cards \n",
      "table  [1-O, 2-O, 3-O, 4-O, 5-O, 6-O, 7-O, sota-O, caballo-O, rey-O]\n",
      "table  [1-C, 2-C, 3-C, 4-C, 5-C, 6-C, 7-C, sota-C, caballo-C, rey-C]\n",
      "table  [1-S, 2-S, 3-S, 4-S, 5-S, 6-S, 7-S]\n",
      "table  [2-B, 3-B, 4-B, 5-B, 6-B, 7-B, sota-B]\n",
      "Salome [rey-B]\n",
      "to play []\n",
      "select card to play? \n",
      "Salome  passes\n",
      "Auto0  plays  1-B\n",
      "Auto0  still has  1 cards \n",
      "Auto1  plays  sota-S\n",
      "Auto1  still has  0 cards \n",
      "Auto1  wins!!!\n"
     ]
    }
   ],
   "source": [
    "game = Cinquillo(4, 'Salome')"
   ]
  },
  {
   "cell_type": "markdown",
   "metadata": {},
   "source": [
    "That's all folks!"
   ]
  },
  {
   "cell_type": "markdown",
   "metadata": {
    "collapsed": true
   },
   "source": [
    "---\n",
    "### Exercises\n",
    "*Exercises*:\n",
    "  1. Implement a more smart automatic player!\n",
    "  2. What about to implementing another card game?\n",
    "  3. Do you think you can re-write 'El cinquillo' using Functional Programming?"
   ]
  },
  {
   "cell_type": "markdown",
   "metadata": {},
   "source": [
    "---\n",
    "### Addendum: do not write classes!\n",
    "\n",
    "Python supports OO programming with loose inforcement of inheritance (as we have seen), but there is a fashion programing school that recomends you to \"do not write classes anymore!\"\n",
    "\n",
    "The argument is that classes are \"closed\" or \"encapsulated\" code, more difficult to reuse, and that methods are better, more reusable, outside the class definition. They maybe right!\n",
    "\n",
    "Nevetheless sometimes there are data structures that call you to \"encapsulate\" them into a class, and sometimes this structure is showing you a internal composition, calling also for \"inheritance\". Write this structures better into classes and derived classes! \n",
    "\n",
    "What I recomend you is to keep things simple, do not implement classes if you do not need them, and prefer classes only for data types. But these are only a recomendations. Experiment yourself!\n"
   ]
  },
  {
   "cell_type": "code",
   "execution_count": null,
   "metadata": {
    "collapsed": true
   },
   "outputs": [],
   "source": []
  }
 ],
 "metadata": {
  "anaconda-cloud": {},
  "kernelspec": {
   "display_name": "Python [Root]",
   "language": "python",
   "name": "Python [Root]"
  },
  "language_info": {
   "codemirror_mode": {
    "name": "ipython",
    "version": 2
   },
   "file_extension": ".py",
   "mimetype": "text/x-python",
   "name": "python",
   "nbconvert_exporter": "python",
   "pygments_lexer": "ipython2",
   "version": "2.7.12"
  }
 },
 "nbformat": 4,
 "nbformat_minor": 0
}
