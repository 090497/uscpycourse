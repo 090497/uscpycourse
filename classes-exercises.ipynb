{
 "cells": [
  {
   "cell_type": "markdown",
   "metadata": {},
   "source": [
    "# Python course on Classes and Functional Programming\n",
    "\n",
    "### *J.A. Hernando, USC, 2016*\n",
    "\n",
    "## Exercises"
   ]
  },
  {
   "cell_type": "markdown",
   "metadata": {},
   "source": [
    "1. Code a clas 3D vector with the following interface:\n",
    "        attributes: x, y, z\n",
    "        methods   : str, module, add, sub, mul, rmul, rdiv, dot, cross, eq\n",
    "   Write a module with test functions for all the methods\n",
    "   Import the 3D vector class of another student and test it\n",
    "\n",
    "\n",
    "2. Code a class nD vector with the following interface (do not use numpy arrays)\n",
    "        methods   : str, len, module, add, sub, mul, rmul, div, dot, getitem, setitem   \n",
    "   Write a module with test functions for all the methods\n",
    "   Import the nD Vector class of another student and test it\n",
    "    \n",
    "    \n",
    "3. Code a class n x m Matrix with the following interface\n",
    "       methods   : str, shape, transpose, add, subs, mul, rmul, div, getitem, setitem\n",
    "       advanced methods  : getslice, is_squared, determinant\n",
    "   Write a moudle with test function for all the methods\n",
    "   Import the Matrix class of another student and test it."
   ]
  },
  {
   "cell_type": "markdown",
   "metadata": {},
   "source": [
    "A draft of a Vector class"
   ]
  },
  {
   "cell_type": "code",
   "execution_count": 15,
   "metadata": {
    "collapsed": true
   },
   "outputs": [],
   "source": [
    "from math import *\n",
    "\n",
    "class Vector3D:\n",
    "    \"\"\" 3D Vector class \n",
    "    \"\"\"\n",
    "    def __init__(self, x, y, z):\n",
    "        self.x = x\n",
    "        self.y = y\n",
    "        self.z = z\n",
    "        \n",
    "    def __str__(self):\n",
    "        s ='(' + str(self.x) + ', ' + str(self.y) + ', ' + str(self.z) + ')'\n",
    "        return s\n",
    "    \n",
    "    def __add__(self, v):\n",
    "        x = self.x + v.x\n",
    "        y = self.y + v.y\n",
    "        z = self.z + v.z\n",
    "        return Vector3D(x, y, z)\n",
    "    "
   ]
  },
  {
   "cell_type": "code",
   "execution_count": 16,
   "metadata": {},
   "outputs": [],
   "source": [
    "# testing the Vector class\n",
    "\n",
    "def test_vector3d_add(v1, v2):\n",
    "    v = v1 + v2\n",
    "    x = v1.x + v2.x\n",
    "    y = v1.y + v2.y\n",
    "    z = v1.z + v2.z\n",
    "    \n",
    "    ok = (v.x == x) and (v.y == y) and (v.z == z)\n",
    "    print(str(v)+' == '+str(v1)+' + '+str(v2)+'? '+str(ok))\n",
    "    return ok\n"
   ]
  },
  {
   "cell_type": "code",
   "execution_count": 17,
   "metadata": {},
   "outputs": [
    {
     "name": "stdout",
     "output_type": "stream",
     "text": [
      "(1, 1, 0) == (1, 0, 0) + (0, 1, 0)? True\n"
     ]
    },
    {
     "data": {
      "text/plain": [
       "True"
      ]
     },
     "execution_count": 17,
     "metadata": {},
     "output_type": "execute_result"
    }
   ],
   "source": [
    "vi = Vector3D(1, 0, 0)\n",
    "vj = Vector3D(0, 1, 0)\n",
    "vk = Vector3D(0, 0, 1)\n",
    "\n",
    "test_vector3d_add(vi, vj)"
   ]
  },
  {
   "cell_type": "code",
   "execution_count": null,
   "metadata": {
    "collapsed": true
   },
   "outputs": [],
   "source": []
  }
 ],
 "metadata": {
  "anaconda-cloud": {},
  "kernelspec": {
   "display_name": "Python 3",
   "language": "python",
   "name": "python3"
  },
  "language_info": {
   "codemirror_mode": {
    "name": "ipython",
    "version": 3
   },
   "file_extension": ".py",
   "mimetype": "text/x-python",
   "name": "python",
   "nbconvert_exporter": "python",
   "pygments_lexer": "ipython3",
   "version": "3.6.1"
  }
 },
 "nbformat": 4,
 "nbformat_minor": 1
}
