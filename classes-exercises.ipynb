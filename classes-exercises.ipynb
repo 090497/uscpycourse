{
 "cells": [
  {
   "cell_type": "markdown",
   "metadata": {},
   "source": [
    "# Python course on Classes and Functional Programming\n",
    "\n",
    "## Exercises"
   ]
  },
  {
   "cell_type": "markdown",
   "metadata": {},
   "source": [
    "Code a *Vector* class using a *list* as it attribute."
   ]
  },
  {
   "cell_type": "code",
   "execution_count": 23,
   "metadata": {
    "collapsed": false
   },
   "outputs": [],
   "source": [
    "from math import *\n",
    "\n",
    "class Vector:\n",
    "    \"\"\" vector class using a list\n",
    "    \"\"\"\n",
    "    def __init__(self, a):\n",
    "        self.a = list(a)\n",
    "        return\n",
    "    \n",
    "    def __len__(self):\n",
    "        return len(self.a)\n",
    "    \n",
    "    def shape(self):\n",
    "        return (len(self))\n",
    "    \n",
    "    def __setitem__(self, i, ai):\n",
    "        self.a[i] = ai\n",
    "        return\n",
    "    \n",
    "    def __getitem__(self, i):\n",
    "        return self.a[i]\n",
    "    \n",
    "    def __add__(self, b):\n",
    "        if (len(b) != len(self)): \n",
    "            raise TypeError('Not same dimension!')\n",
    "        c = map(lambda ai, bi: ai + bi, self.a, b.a)\n",
    "        return c\n",
    "    \n",
    "    def __mul__(self, b):\n",
    "        if (len(b) != len(self)): \n",
    "            raise TypeError('Not same dimension!')\n",
    "        c = sum(map(lambda ai, bi: ai*bi, self.a, b.a)) \n",
    "        return c\n",
    "    \n",
    "    def __str__(self):\n",
    "        return str(self.a)"
   ]
  },
  {
   "cell_type": "code",
   "execution_count": 24,
   "metadata": {
    "collapsed": false
   },
   "outputs": [
    {
     "name": "stdout",
     "output_type": "stream",
     "text": [
      " i + j =  [1.0, 1.0, 0.0]\n",
      " i * j =  0.0\n",
      " vector x  [0.0, 0.0, 2.0]\n"
     ]
    }
   ],
   "source": [
    "# testing the Vector class\n",
    "\n",
    "# create the vectors\n",
    "vi = Vector([1., 0., 0.])\n",
    "vj = Vector([0., 1., 0.])\n",
    "vk = Vector([0., 0., 1.])\n",
    "\n",
    "# some operations\n",
    "print ' i + j = ', vi+vj\n",
    "print ' i * j = ', vi*vj\n",
    "\n",
    "# getting and setting vector components!\n",
    "x = Vector([0., 0., 0.])\n",
    "x[2] = 2.\n",
    "print ' vector x ',x"
   ]
  },
  {
   "cell_type": "code",
   "execution_count": null,
   "metadata": {
    "collapsed": true
   },
   "outputs": [],
   "source": []
  }
 ],
 "metadata": {
  "anaconda-cloud": {},
  "kernelspec": {
   "display_name": "Python [Root]",
   "language": "python",
   "name": "Python [Root]"
  },
  "language_info": {
   "codemirror_mode": {
    "name": "ipython",
    "version": 2
   },
   "file_extension": ".py",
   "mimetype": "text/x-python",
   "name": "python",
   "nbconvert_exporter": "python",
   "pygments_lexer": "ipython2",
   "version": "2.7.12"
  }
 },
 "nbformat": 4,
 "nbformat_minor": 0
}
