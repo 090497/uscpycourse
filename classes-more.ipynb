{
 "cells": [
  {
   "cell_type": "markdown",
   "metadata": {},
   "source": [
    "# Python Course on Classes and Functional Programming\n",
    "\n",
    "## More on Classes"
   ]
  },
  {
   "cell_type": "code",
   "execution_count": 19,
   "metadata": {
    "collapsed": false
   },
   "outputs": [
    {
     "name": "stdout",
     "output_type": "stream",
     "text": [
      " Last revision  Thu Nov  3 21:32:13 2016\n"
     ]
    }
   ],
   "source": [
    "import time\n",
    "print ' Last revision ', time.asctime()"
   ]
  },
  {
   "cell_type": "markdown",
   "metadata": {},
   "source": [
    "### static attributes and methods"
   ]
  },
  {
   "cell_type": "markdown",
   "metadata": {},
   "source": [
    "Some classes have fix attributes that have the same value for all instance. They are *static* members. \n",
    "\n",
    "Sometimes the classes have also methods that do not depend on the instance, they are *static* too. You need to indicate so with the decorator *@staticmethod* before the method definition.\n",
    "\n",
    "Static attributes and methods are like attributes and functions inside a namespace!"
   ]
  },
  {
   "cell_type": "code",
   "execution_count": 20,
   "metadata": {
    "collapsed": true
   },
   "outputs": [],
   "source": [
    "class BankAccount:\n",
    "    \n",
    "    bankname = 'BANK'\n",
    "    \n",
    "    @staticmethod\n",
    "    def bank_code():\n",
    "        return 1231"
   ]
  },
  {
   "cell_type": "code",
   "execution_count": 21,
   "metadata": {
    "collapsed": false
   },
   "outputs": [
    {
     "name": "stdout",
     "output_type": "stream",
     "text": [
      "BANK\n",
      "1231\n"
     ]
    }
   ],
   "source": [
    "print BankAccount.bankname\n",
    "print BankAccount.bank_code()"
   ]
  },
  {
   "cell_type": "markdown",
   "metadata": {},
   "source": [
    "### accessing the attributes"
   ]
  },
  {
   "cell_type": "markdown",
   "metadata": {},
   "source": [
    "The *vars* builtin function, returns the attributes of an instance of a class in a dictionary!"
   ]
  },
  {
   "cell_type": "code",
   "execution_count": 22,
   "metadata": {
    "collapsed": false
   },
   "outputs": [
    {
     "name": "stdout",
     "output_type": "stream",
     "text": [
      "members  {'real': 0.0, 'img': 1.0}\n"
     ]
    }
   ],
   "source": [
    "from complex import Complex\n",
    "\n",
    "cj= Complex(0., 1.)\n",
    "members = vars(cj)\n",
    "print 'members ', members"
   ]
  },
  {
   "cell_type": "markdown",
   "metadata": {},
   "source": [
    "You can set or get an attribute of the class with *setattr* and *getattr* builtin functions!"
   ]
  },
  {
   "cell_type": "code",
   "execution_count": 23,
   "metadata": {
    "collapsed": false
   },
   "outputs": [
    {
     "name": "stdout",
     "output_type": "stream",
     "text": [
      "cj =  0.0+2.0j\n",
      "imaginary part  2.0\n"
     ]
    }
   ],
   "source": [
    "setattr(cj, 'img', 2.)\n",
    "print 'cj = ', cj\n",
    "\n",
    "img = getattr(cj, 'img')\n",
    "print 'imaginary part ', img"
   ]
  },
  {
   "cell_type": "markdown",
   "metadata": {},
   "source": [
    "### Do not write classes!"
   ]
  },
  {
   "cell_type": "markdown",
   "metadata": {},
   "source": [
    "Python supports OO programming with loose inforcement of inheritance (as we have seen), but there is a fashion programing school that recomends you to \"do not write classes!\"\n",
    "\n",
    "The argument is that classes are \"closed\" or \"encapsulated\" code, more difficult to reuse, and that methods are better off, more reusable, outside the class definition. They maybe right!\n",
    "\n",
    "Nevetheless sometimes there are data structures that call you to \"encapsulate\" them into a class, and sometimes this structure is showing you a internal composition, calling also for \"inheritance\". Write them better into classes and derived classes! \n",
    "\n",
    "What I recomend you is to keep things simple, do not implement classes if you do not need them, and prefer classes only for data types. But these are only a recomendations. Experiment yourself!"
   ]
  }
 ],
 "metadata": {
  "anaconda-cloud": {},
  "kernelspec": {
   "display_name": "Python [Root]",
   "language": "python",
   "name": "Python [Root]"
  },
  "language_info": {
   "codemirror_mode": {
    "name": "ipython",
    "version": 2
   },
   "file_extension": ".py",
   "mimetype": "text/x-python",
   "name": "python",
   "nbconvert_exporter": "python",
   "pygments_lexer": "ipython2",
   "version": "2.7.12"
  }
 },
 "nbformat": 4,
 "nbformat_minor": 0
}
