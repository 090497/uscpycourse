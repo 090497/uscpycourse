{
 "cells": [
  {
   "cell_type": "markdown",
   "metadata": {},
   "source": [
    "# Python Course on Classes and Functional Programming\n",
    "\n",
    "#### *J.A. Hernando, USC, 2016*\n",
    "\n",
    "## More on Classes"
   ]
  },
  {
   "cell_type": "code",
   "execution_count": 1,
   "metadata": {},
   "outputs": [
    {
     "name": "stdout",
     "output_type": "stream",
     "text": [
      " Last revision  Mon Oct 14 16:08:23 2019\n"
     ]
    }
   ],
   "source": [
    "import time\n",
    "print(' Last revision ', time.asctime())"
   ]
  },
  {
   "cell_type": "markdown",
   "metadata": {},
   "source": [
    "----\n",
    "## More on Classes\n",
    "\n",
    "### 1.1 static attributes and methods"
   ]
  },
  {
   "cell_type": "markdown",
   "metadata": {},
   "source": [
    "Some classes have fix attributes that have the same value for all instances. They are *static* members. \n",
    "\n",
    "Sometimes the classes have also methods that do not depend on the instance, they are *static* too. You need to indicate so with the decorator *@staticmethod* before the method definition.\n",
    "\n",
    "Static attributes and methods are like attributes and functions inside a namespace!"
   ]
  },
  {
   "cell_type": "code",
   "execution_count": 2,
   "metadata": {},
   "outputs": [],
   "source": [
    "class BankAccount:\n",
    "    \n",
    "    bankname = 'BANK'\n",
    "    \n",
    "    @staticmethod\n",
    "    def bank_code():\n",
    "        return 1231"
   ]
  },
  {
   "cell_type": "code",
   "execution_count": 4,
   "metadata": {},
   "outputs": [
    {
     "name": "stdout",
     "output_type": "stream",
     "text": [
      "BANK\n",
      "1231\n"
     ]
    }
   ],
   "source": [
    "print(BankAccount.bankname)\n",
    "print(BankAccount.bank_code())"
   ]
  },
  {
   "cell_type": "markdown",
   "metadata": {},
   "source": [
    "### 1.2 Accessing Class attributes"
   ]
  },
  {
   "cell_type": "markdown",
   "metadata": {},
   "source": [
    "Python provides nice ways to access the attributes of an instance, and to change them. \n",
    "The relevant builtin functions to access the object attributes are *vars(), setattr()* and *getattr()*.\n",
    "\n",
    "The *vars()* builtin function, returns the attributes of an instance of a class in a dictionary! Nice, isn't it?"
   ]
  },
  {
   "cell_type": "code",
   "execution_count": 5,
   "metadata": {},
   "outputs": [
    {
     "name": "stdout",
     "output_type": "stream",
     "text": [
      "members  {'real': 0.0, 'img': 1.0}\n"
     ]
    }
   ],
   "source": [
    "from complex import Complex\n",
    "\n",
    "cj= Complex(0., 1.)\n",
    "members = vars(cj)\n",
    "print('members ', members)"
   ]
  },
  {
   "cell_type": "markdown",
   "metadata": {},
   "source": [
    "You can also set or get an attribute of the class with *setattr()* and *getattr()* builtin functions!"
   ]
  },
  {
   "cell_type": "code",
   "execution_count": 6,
   "metadata": {},
   "outputs": [
    {
     "name": "stdout",
     "output_type": "stream",
     "text": [
      "cj =  0.0+2.0j\n",
      "imaginary part  2.0\n"
     ]
    }
   ],
   "source": [
    "setattr(cj, 'img', 2.)\n",
    "print('cj = ', cj)\n",
    "\n",
    "img = getattr(cj, 'img')\n",
    "print('imaginary part ', img)"
   ]
  },
  {
   "cell_type": "markdown",
   "metadata": {},
   "source": [
    "There is more! You can change dinamically your objects, add members or methods, but I consider that 'dirty' programming... "
   ]
  },
  {
   "cell_type": "code",
   "execution_count": null,
   "metadata": {},
   "outputs": [],
   "source": []
  }
 ],
 "metadata": {
  "anaconda-cloud": {},
  "kernelspec": {
   "display_name": "Python 3",
   "language": "python",
   "name": "python3"
  },
  "language_info": {
   "codemirror_mode": {
    "name": "ipython",
    "version": 3
   },
   "file_extension": ".py",
   "mimetype": "text/x-python",
   "name": "python",
   "nbconvert_exporter": "python",
   "pygments_lexer": "ipython3",
   "version": "3.7.3"
  }
 },
 "nbformat": 4,
 "nbformat_minor": 1
}
