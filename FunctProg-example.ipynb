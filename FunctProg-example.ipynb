{
 "cells": [
  {
   "cell_type": "markdown",
   "metadata": {},
   "source": [
    "# Python Course on Classes and Functional Programming\n",
    "\n",
    "## Functional Programming"
   ]
  },
  {
   "cell_type": "code",
   "execution_count": 211,
   "metadata": {
    "collapsed": false
   },
   "outputs": [
    {
     "name": "stdout",
     "output_type": "stream",
     "text": [
      " Last revision  Sat Nov  5 16:52:36 2016\n"
     ]
    }
   ],
   "source": [
    "import time\n",
    "print ' Last revision ', time.asctime()"
   ]
  },
  {
   "cell_type": "markdown",
   "metadata": {},
   "source": [
    "### 1. 'El Cinquillo' in FP\n",
    "\n",
    "We are going to re-write 'El Cinquillo' car game, that we discussed in the Object Oriented notebook, using now Functional Programming (FP).\n",
    "\n",
    "In FP we have to identify the different functions, and the arguments that are passed between functions.\n",
    "\n",
    "We can reinterpret an object of type *Card* with a 2-item tuple, one item is the rank, the second the suit. *('5', '0')* is the five of golden coins. A *Desk* will be now simply a list of *(rank, suit)* tuples.\n",
    "It seems natural that the functions are going to take as argument cards, or list of cards.\n",
    "\n",
    "Respect the functions. The is a initial function that shuffle the cards and share them among the players. There is a function to ask a player to take a decision. A function to check is a card can be put on the table. Another to check from the card on the hand of a player, which ones can be played. An a function that will select one, it can be manually or via a logic. We have almost all... Let's try:\n"
   ]
  },
  {
   "cell_type": "code",
   "execution_count": 159,
   "metadata": {
    "collapsed": false
   },
   "outputs": [
    {
     "name": "stdout",
     "output_type": "stream",
     "text": [
      "Writing cinquillo.py\n"
     ]
    }
   ],
   "source": [
    "%%writefile cinquillo.py\n",
    "\n",
    "import random\n",
    "import copy\n",
    "import itertools\n",
    "\n",
    "ranks = ['1', '2', '3', '4', '5', '6', '7', 'sota', 'caballo', 'rey']\n",
    "suits = ['O', 'C', 'S', 'B']\n",
    "spanish_desk = [(rank, suit) for rank in ranks for suit in suits]\n",
    "\n",
    "def order_cards(cards):\n",
    "    \"\"\" order the cards, cards is a list of cards. Each card is a typle (rank, suit).\n",
    "    Returns the ordered list of cards!\n",
    "    \"\"\"\n",
    "    def order_card(card1, card2):\n",
    "        s1, s2 = suits.index(card1[1]), suits.index(card2[1])\n",
    "        if (s1 < s2): \n",
    "            return -1  \n",
    "        elif (s1 > s2):\n",
    "            return 1\n",
    "        r1, r2 = ranks.index(card1[0]), ranks.index(card2[0])\n",
    "        if (r1 < r2):\n",
    "            return -1\n",
    "        elif (r1 > r2):\n",
    "            return 1\n",
    "        return 0  \n",
    "    \n",
    "    return sorted(cards, cmp=order_card)\n",
    "\n",
    "\n",
    "def deal_cards(nplayers):\n",
    "    \"\"\" Deal the cards among nplayers. \n",
    "    Returns nplayer list with cards.\n",
    "    \"\"\"\n",
    "    desk = copy.deepcopy(spanish_desk)\n",
    "    random.shuffle(desk)\n",
    "    hands = []\n",
    "    for i in range(nplayers):\n",
    "        hands.append([])\n",
    "    for i in itertools.cycle(range(nplayers)):\n",
    "        if (len(desk) <= 0):\n",
    "            break\n",
    "        hands[i].append(desk.pop())\n",
    "    return hands\n",
    "\n",
    "\n",
    "def valid_card(card, table):\n",
    "    \"\"\" check if the card, a tuple (card, suit), can be display on the table. \n",
    "    table here is the list of cards on the table (face up).\n",
    "    Returns true of false.\n",
    "    \"\"\"\n",
    "    O5 = ('5','O')\n",
    "    if (not O5 in table):\n",
    "        return (card == O5)\n",
    "    if (card[0] == '5'):\n",
    "        return True\n",
    "    rank, suit = card[0], card[1]\n",
    "    ipos = ranks.index(rank)\n",
    "    i0 = max(ipos-1, 0)\n",
    "    i1 = min(ipos+1, len(ranks)-1)\n",
    "    iicards = [(ranks[ii], suit) for ii in (i0, i1)]\n",
    "    return any([(icard in table) for icard in iicards])\n",
    "\n",
    "\n",
    "def cards_to_play(hand, table):\n",
    "    \"\"\" return a list with the cards than can play from the hand, \n",
    "    a list of cards, and the table, the list of cards on the table or display.\n",
    "    \"\"\"\n",
    "    cards = [card for card in hand if valid_card(card, table)]\n",
    "    return cards\n",
    "    \n",
    "\n",
    "def show_cards(cards, name='cards'):\n",
    "    \"\"\" print in the screen the cards that are in cards, a list of cards.\n",
    "    \"\"\"\n",
    "    def str_(card):\n",
    "        return str(card[0])+'-'+str(card[1])\n",
    "    print name, str([str_(card) for card in cards])\n",
    "    return\n",
    "\n",
    "\n",
    "def give_card(card, pile1, pile2):\n",
    "    \"\"\" transfer the card from pile1 (a list of cards) to pile2 (a second list of cards).\n",
    "    Returns the new pile1 and pile2 list of cards\n",
    "    \"\"\"\n",
    "    cpile1, cpile2 = copy.deepcopy(pile1), copy.deepcopy(pile2) \n",
    "    cpile1.remove(card)\n",
    "    cpile2.append(card)\n",
    "    cpile2 = order_cards(cpile2)\n",
    "    return cpile1, cpile2\n",
    "\n",
    "\n",
    "def automatic_play(hand, table):\n",
    "    \"\"\" do an automatic play, take a randon card from the hand that can be played.\n",
    "    hand is the list  of card on the hand of a player, \n",
    "    table is the list of cards on table or display.\n",
    "    returns the new list of cards on the hand and the table\n",
    "    \"\"\"\n",
    "    cards = cards_to_play(hand, table)\n",
    "    if (len(cards) == 0):\n",
    "        return hand, table\n",
    "    card = random.sample(cards, 1)[0]     \n",
    "    return give_card(card, hand, table)\n",
    "\n",
    "\n",
    "def manual_play(hand, table):\n",
    "    \"\"\" manually play, ask the user to select a card from the hand, a list of cards, to play.\n",
    "    table is the list of cards on the table or display.\n",
    "    Returns the new list of card on the hand of the player and the table.\n",
    "    \"\"\"\n",
    "    show_cards(hand, name='hand:')\n",
    "    show_cards(table, name='table:')\n",
    "    cards = cards_to_play(hand, table)\n",
    "    show_cards(cards, name='select one:')\n",
    "    while True:\n",
    "        dat = raw_input('select a card ')\n",
    "        if ((dat == '') and (len(cards) == 0)):\n",
    "            return hand, table\n",
    "        elif (dat.find('-') > 0): \n",
    "            rank, suit = (dat.split('-'))\n",
    "            card = (rank, suit)\n",
    "            if ((valid_card(card, table)) and (card in hand)):\n",
    "                return give_card(card, hand, table)\n",
    "        print 'Not valid card!'\n",
    "    return\n",
    "\n",
    "\n",
    "def cinquillo(nplayers, name='Salome'):\n",
    "    \"\"\" plays the 'El cinquillo' game, with nplayers the number of players, \n",
    "    and name, the name of the manual player.\n",
    "    \"\"\"\n",
    "    hands, table = deal_cards(nplayers), []\n",
    "    for iplayer in itertools.cycle(range(nplayers)):\n",
    "        hand = hands[iplayer]\n",
    "        issalome = (iplayer%nplayers == 0)\n",
    "        if (issalome):\n",
    "            hand, table = manual_play(hand, table)\n",
    "        else:\n",
    "            hand, table = automatic_play(hand, table)\n",
    "        hands[iplayer] = hand\n",
    "        cname = 'player'+str(iplayer)\n",
    "        if (issalome): cname = name\n",
    "        print cname, ' has ', len(hand), 'cards'\n",
    "        if (len(hand) == 0):\n",
    "            print cname, ' wins!!'\n",
    "            break\n",
    "    return"
   ]
  },
  {
   "cell_type": "markdown",
   "metadata": {},
   "source": [
    "We can test the functions."
   ]
  },
  {
   "cell_type": "code",
   "execution_count": 154,
   "metadata": {
    "collapsed": false
   },
   "outputs": [
    {
     "name": "stdout",
     "output_type": "stream",
     "text": [
      "hand0 ['1-O', '5-O', '2-O', '1-C', 'sota-C', 'caballo-O', '7-C', '4-O', 'sota-O', 'rey-O']\n",
      "hand1 ['1-O', '2-O', '4-O', '5-O', 'sota-O', 'caballo-O', 'rey-O', '1-C', '7-C', 'sota-C']\n"
     ]
    }
   ],
   "source": [
    "# deal cards, show one player\n",
    "hands = deal_cards(4)\n",
    "show_cards(hands[0], 'hand0')\n",
    "show_cards(order_cards(hands[0]), 'hand1')"
   ]
  },
  {
   "cell_type": "code",
   "execution_count": 155,
   "metadata": {
    "collapsed": false
   },
   "outputs": [
    {
     "name": "stdout",
     "output_type": "stream",
     "text": [
      "player0 ['5-O']\n",
      "player1 []\n",
      "player2 []\n",
      "player3 []\n"
     ]
    }
   ],
   "source": [
    "# how is the players with the 5-O\n",
    "for i in range(4):\n",
    "    show_cards(cards_to_play(hands[i], []), 'player'+str(i))\n"
   ]
  },
  {
   "cell_type": "code",
   "execution_count": 156,
   "metadata": {
    "collapsed": false
   },
   "outputs": [
    {
     "name": "stdout",
     "output_type": "stream",
     "text": [
      "hand: ['1-O', '5-O', '2-O', '1-C', 'sota-C', 'caballo-O', '7-C', '4-O', 'sota-O', 'rey-O']\n",
      "table: []\n",
      "select one: ['5-O']\n",
      "select a card 5-O\n",
      "hand: ['4-C', '3-B', '3-O', 'sota-B', '3-C', 'caballo-S', '6-S', '5-S', '6-O', '5-C']\n",
      "table: ['5-O']\n",
      "select one: ['5-S', '6-O', '5-C']\n",
      "select a card 5-S\n",
      "hand: ['6-B', '4-B', '1-B', 'rey-B', '2-C', '2-S', '5-B', '4-S', 'caballo-C', '3-S']\n",
      "table: ['5-O', '5-S']\n",
      "select one: ['5-B', '4-S']\n",
      "select a card 5-B\n",
      "hand: ['7-B', 'caballo-B', '2-B', 'sota-S', 'rey-C', '7-S', '6-C', '1-S', '7-O', 'rey-S']\n",
      "table: ['5-O', '5-S', '5-B']\n",
      "select one: []\n",
      "select a card \n"
     ]
    }
   ],
   "source": [
    "# lets do a round, manual\n",
    "table = []\n",
    "for iplayer in range(nplayers):\n",
    "    hands[iplayer], table = manual_play(hands[iplayer], table)"
   ]
  },
  {
   "cell_type": "code",
   "execution_count": 157,
   "metadata": {
    "collapsed": false
   },
   "outputs": [
    {
     "name": "stdout",
     "output_type": "stream",
     "text": [
      "table ['5-O', '5-S', '5-B']\n",
      "player0 ['1-O', '2-O', '1-C', 'sota-C', 'caballo-O', '7-C', '4-O', 'sota-O', 'rey-O']\n",
      "table ['4-O', '5-O', '5-S', '5-B']\n",
      "player1 ['4-C', '3-B', '3-O', 'sota-B', '3-C', 'caballo-S', '6-S', '6-O', '5-C']\n",
      "table ['4-O', '5-O', '6-O', '5-S', '5-B']\n",
      "player2 ['6-B', '4-B', '1-B', 'rey-B', '2-C', '2-S', '4-S', 'caballo-C', '3-S']\n",
      "table ['4-O', '5-O', '6-O', '5-S', '4-B', '5-B']\n",
      "player3 ['7-B', 'caballo-B', '2-B', 'sota-S', 'rey-C', '7-S', '6-C', '1-S', '7-O', 'rey-S']\n"
     ]
    }
   ],
   "source": [
    "# lets do another round, automatic\n",
    "for iplayer in range(nplayers):\n",
    "    show_cards(table, 'table')\n",
    "    show_cards(hands[iplayer], 'player'+str(iplayer))\n",
    "    hands[iplayer], table = automatic_play(hands[iplayer], table)"
   ]
  },
  {
   "cell_type": "markdown",
   "metadata": {},
   "source": [
    "let's play!"
   ]
  },
  {
   "cell_type": "code",
   "execution_count": 158,
   "metadata": {
    "collapsed": false
   },
   "outputs": [
    {
     "name": "stdout",
     "output_type": "stream",
     "text": [
      "hand: ['6-B', '3-C', '5-C', '4-S', '7-C', 'sota-C', '2-O', '2-B', '6-C', '1-O']\n",
      "table: []\n",
      "select one: []\n",
      "select a card \n",
      "Salome  has  10 cards\n",
      "player1  has  10 cards\n",
      "player2  has  9 cards\n",
      "player3  has  9 cards\n",
      "hand: ['6-B', '3-C', '5-C', '4-S', '7-C', 'sota-C', '2-O', '2-B', '6-C', '1-O']\n",
      "table: ['5-O', '6-O']\n",
      "select one: ['5-C']\n",
      "select a card 5-C\n",
      "Salome  has  9 cards\n",
      "player1  has  9 cards\n",
      "player2  has  8 cards\n",
      "player3  has  9 cards\n",
      "hand: ['6-B', '3-C', '4-S', '7-C', 'sota-C', '2-O', '2-B', '6-C', '1-O']\n",
      "table: ['5-O', '6-O', '4-C', '5-C', '5-S']\n",
      "select one: ['3-C', '4-S', '6-C']\n",
      "select a card 3-C\n",
      "Salome  has  8 cards\n",
      "player1  has  8 cards\n",
      "player2  has  7 cards\n",
      "player3  has  9 cards\n",
      "hand: ['6-B', '4-S', '7-C', 'sota-C', '2-O', '2-B', '6-C', '1-O']\n",
      "table: ['5-O', '6-O', '2-C', '3-C', '4-C', '5-C', '5-S', '5-B']\n",
      "select one: ['6-B', '4-S', '6-C']\n",
      "select a card 6-B\n",
      "Salome  has  7 cards\n",
      "player1  has  7 cards\n",
      "player2  has  6 cards\n",
      "player3  has  8 cards\n",
      "hand: ['4-S', '7-C', 'sota-C', '2-O', '2-B', '6-C', '1-O']\n",
      "table: ['5-O', '6-O', '7-O', 'sota-O', '2-C', '3-C', '4-C', '5-C', '5-S', '4-B', '5-B', '6-B']\n",
      "select one: ['4-S', '6-C']\n",
      "select a card 4-S\n",
      "Salome  has  6 cards\n",
      "player1  has  6 cards\n",
      "player2  has  5 cards\n",
      "player3  has  7 cards\n",
      "hand: ['7-C', 'sota-C', '2-O', '2-B', '6-C', '1-O']\n",
      "table: ['3-O', '4-O', '5-O', '6-O', '7-O', 'sota-O', '2-C', '3-C', '4-C', '5-C', '3-S', '4-S', '5-S', '4-B', '5-B', '6-B']\n",
      "select one: ['2-O', '6-C']\n",
      "select a card 2-O\n",
      "Salome  has  5 cards\n",
      "player1  has  5 cards\n",
      "player2  has  4 cards\n",
      "player3  has  6 cards\n",
      "hand: ['7-C', 'sota-C', '2-B', '6-C', '1-O']\n",
      "table: ['2-O', '3-O', '4-O', '5-O', '6-O', '7-O', 'sota-O', '2-C', '3-C', '4-C', '5-C', '2-S', '3-S', '4-S', '5-S', '6-S', '7-S', '4-B', '5-B', '6-B']\n",
      "select one: ['6-C', '1-O']\n",
      "select a card 6-C\n",
      "Salome  has  4 cards\n",
      "player1  has  4 cards\n",
      "player2  has  3 cards\n",
      "player3  has  5 cards\n",
      "hand: ['7-C', 'sota-C', '2-B', '1-O']\n",
      "table: ['2-O', '3-O', '4-O', '5-O', '6-O', '7-O', 'sota-O', '1-C', '2-C', '3-C', '4-C', '5-C', '6-C', '1-S', '2-S', '3-S', '4-S', '5-S', '6-S', '7-S', '3-B', '4-B', '5-B', '6-B']\n",
      "select one: ['7-C', '2-B', '1-O']\n",
      "select a card 7-C\n",
      "Salome  has  3 cards\n",
      "player1  has  3 cards\n",
      "player2  has  2 cards\n",
      "player3  has  4 cards\n",
      "hand: ['sota-C', '2-B', '1-O']\n",
      "table: ['2-O', '3-O', '4-O', '5-O', '6-O', '7-O', 'sota-O', '1-C', '2-C', '3-C', '4-C', '5-C', '6-C', '7-C', '1-S', '2-S', '3-S', '4-S', '5-S', '6-S', '7-S', 'sota-S', '3-B', '4-B', '5-B', '6-B', '7-B', 'sota-B']\n",
      "select one: ['sota-C', '2-B', '1-O']\n",
      "select a card sota-C\n",
      "Salome  has  2 cards\n",
      "player1  has  2 cards\n",
      "player2  has  1 cards\n",
      "player3  has  3 cards\n",
      "hand: ['2-B', '1-O']\n",
      "table: ['2-O', '3-O', '4-O', '5-O', '6-O', '7-O', 'sota-O', '1-C', '2-C', '3-C', '4-C', '5-C', '6-C', '7-C', 'sota-C', '1-S', '2-S', '3-S', '4-S', '5-S', '6-S', '7-S', 'sota-S', 'caballo-S', 'rey-S', '3-B', '4-B', '5-B', '6-B', '7-B', 'sota-B', 'caballo-B']\n",
      "select one: ['2-B', '1-O']\n",
      "select a card 2-B\n",
      "Salome  has  1 cards\n",
      "player1  has  1 cards\n",
      "player2  has  0 cards\n",
      "player2  wins!!\n"
     ]
    }
   ],
   "source": [
    "# let's play\n",
    "cinquillo(4)"
   ]
  },
  {
   "cell_type": "markdown",
   "metadata": {
    "collapsed": true
   },
   "source": [
    "That's all!"
   ]
  }
 ],
 "metadata": {
  "anaconda-cloud": {},
  "kernelspec": {
   "display_name": "Python [Root]",
   "language": "python",
   "name": "Python [Root]"
  },
  "language_info": {
   "codemirror_mode": {
    "name": "ipython",
    "version": 2
   },
   "file_extension": ".py",
   "mimetype": "text/x-python",
   "name": "python",
   "nbconvert_exporter": "python",
   "pygments_lexer": "ipython2",
   "version": "2.7.12"
  }
 },
 "nbformat": 4,
 "nbformat_minor": 0
}
