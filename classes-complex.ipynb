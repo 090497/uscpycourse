{
 "cells": [
  {
   "cell_type": "markdown",
   "metadata": {},
   "source": [
    "# Python Course on Classes and Functional Programming\n",
    "\n",
    "## Class: the complex number"
   ]
  },
  {
   "cell_type": "code",
   "execution_count": 27,
   "metadata": {
    "collapsed": false
   },
   "outputs": [
    {
     "name": "stdout",
     "output_type": "stream",
     "text": [
      " Last revision  Thu Nov  3 10:40:21 2016\n"
     ]
    }
   ],
   "source": [
    "import time\n",
    "print ' Last revision ', time.asctime()"
   ]
  },
  {
   "cell_type": "markdown",
   "metadata": {},
   "source": [
    "For pedagogic purposes we are going to code the complex number class but instead of using as attributes the real and imaginary part we will use the module and the phase"
   ]
  },
  {
   "cell_type": "markdown",
   "metadata": {},
   "source": [
    "Before coding a class, we should identify the elements of the __class__: its **attributes** and its **methods**. \n",
    "\n",
    "In our case, the attribures are the module and the phase, while the operatios are the same that we have in the python builtin complex class: abs, add, subs, prod, conjugate, str, etc, with the adition of real and img methods.\n",
    "\n",
    "One very relevant method is the constructor. The constructor is the method that creates the object, that is, it sets its attributes. The construtor has the special method __init__ and to call a constructor we simply use a function that is the name of the class. \n",
    "In our case, the constructor will take the module and the phase of the complex number.\n",
    "\n",
    "To distinguish our class from the python complex class, we will defined as Complex, with 'C' in uppercase.\n"
   ]
  },
  {
   "cell_type": "markdown",
   "metadata": {},
   "source": [
    "### The syntax for Class"
   ]
  },
  {
   "cell_type": "markdown",
   "metadata": {},
   "source": [
    "The following cell contains the partial definition of the Complex class:"
   ]
  },
  {
   "cell_type": "code",
   "execution_count": 28,
   "metadata": {
    "collapsed": true
   },
   "outputs": [],
   "source": [
    "import math\n",
    "\n",
    "class Complex:\n",
    "    \"\"\" Complex number with module and phase as attributes\n",
    "    \"\"\"\n",
    "        \n",
    "    def __init__(self, mod, phase):\n",
    "        \"\"\" To construct a complex number from the module and the phase\n",
    "        \"\"\"\n",
    "        if (mod < 0): \n",
    "            raise TypeError('module must be zero or positive')\n",
    "        self.mod = mod\n",
    "        self.phase = phase\n",
    "        return\n",
    "    \n",
    "    def real(self):\n",
    "        \"\"\" return the real part\n",
    "        \"\"\"\n",
    "        real = self.mod*math.cos(self.phase)\n",
    "        return real\n",
    "    \n",
    "    def img(self):\n",
    "        \"\"\" return the imaginary part\n",
    "        \"\"\"\n",
    "        img = self.mod*math.sin(self.phase)\n",
    "        return img\n",
    "    \n",
    "    def __abs__(self):\n",
    "        \"\"\" return the module\n",
    "        \"\"\"\n",
    "        return self.mod\n",
    "    \n",
    "    def __add__(self, y):\n",
    "        \"\"\" add to complex numbers <=> x+y\n",
    "        \"\"\"\n",
    "        real = self.real() + y.real()\n",
    "        img = self.img() + y.img()\n",
    "        mod = math.sqrt(real*real + img*img)\n",
    "        phase = 0.\n",
    "        if (mod>0): \n",
    "            phase = math.acos(real/mod)\n",
    "        return Complex(mod,phase)\n",
    "    \n",
    "    def __prod__(self, y):\n",
    "        \"\"\" the product of two complex numbers: x*y\n",
    "        \"\"\"\n",
    "        mod = self.mod * y.mod\n",
    "        phase = self.phase + y.phase\n",
    "        return Complex(mod, phase)\n",
    "        \n",
    "    def conjugate(self):\n",
    "        \"\"\" complex conjugate\n",
    "        \"\"\"\n",
    "        return Complex(self.mod, -1.*self.phase)\n",
    "    \n",
    "    def __str__(self):\n",
    "        \"\"\" convert to a string\n",
    "        \"\"\"\n",
    "        s = str(self.mod)+'e^'+str(self.phase)\n",
    "        return s\n",
    "           "
   ]
  },
  {
   "cell_type": "markdown",
   "metadata": {},
   "source": [
    "The class syntax start with class Name, *Complex*: and it follows the definition of the methods as indented functions.\n",
    "\n",
    "The class and its method are described using the *\"\"\"comment\"\"\"* syntax just after the definition. The *help()* method will use these comments to print the information when invoqued. \n"
   ]
  },
  {
   "cell_type": "markdown",
   "metadata": {},
   "source": [
    "### The constructor "
   ]
  },
  {
   "cell_type": "markdown",
   "metadata": {},
   "source": [
    "The constructor is the __init__ methods module takes three arguments, *mod* and *phase*, and sets them as attributes, via the assigment *'='* to first argument, **self**.\n",
    "\n",
    "__self__ here is the variable that holds the object. \n",
    "\n",
    "The **init** method is associated to the name of the class. We create the objects invoquing the name of the class. See for example:"
   ]
  },
  {
   "cell_type": "code",
   "execution_count": 29,
   "metadata": {
    "collapsed": false
   },
   "outputs": [
    {
     "data": {
      "text/plain": [
       "True"
      ]
     },
     "execution_count": 29,
     "metadata": {},
     "output_type": "execute_result"
    }
   ],
   "source": [
    "x = Complex(1,.0)\n",
    "isinstance(x, Complex)"
   ]
  },
  {
   "cell_type": "markdown",
   "metadata": {},
   "source": [
    "You should notice that we do not pass the first argument *self* to create the object. The compiler creates the object Complex and assinged to the variable *x*."
   ]
  },
  {
   "cell_type": "markdown",
   "metadata": {},
   "source": [
    "### The self"
   ]
  },
  {
   "cell_type": "markdown",
   "metadata": {},
   "source": [
    "*self* is in fact the first argument of all the methods! As in the constructor, *self* is the variable associated to the object.\n",
    "\n",
    "Inside any method of the class, *self* is in fact the variable that holds the object. And to access its attributes or to apply any method we can just use the *'.'* operator! \n",
    "\n",
    "Look now at the definition of __prod__, it takes as first argument *self*, and second a variable *y*, expected to be also a Complex type. In the implementation, one can access the module and phase of the object *self* and do the product with the object *y* and finally the method creates another object of Complex type and returns it!\n",
    "\n",
    "Now we can see how works the function *Complex.conjugate(x)*: *x* is an instance of Complex class, *conjugate* is a method (a function) defined in the class *Complex* (that acts here has the ambivalence of be anamespace). *Complex.cojungate(x)* is then a function in a namespace apply to a variable of type *x* of type Complex. Looking at the class now as a namespace and a function inside the namespace, the argumetn *self* makes now more sense!\n",
    "\n",
    "We can either do: *x.conjugate()*, if *x* is an instance of Complex, or do *Complex.conjugate(x)*."
   ]
  },
  {
   "cell_type": "code",
   "execution_count": 30,
   "metadata": {
    "collapsed": false
   },
   "outputs": [
    {
     "name": "stdout",
     "output_type": "stream",
     "text": [
      "1.0e^-1.57079632679\n",
      "1.0e^-1.57079632679\n"
     ]
    }
   ],
   "source": [
    "x = Complex(1., math.pi/2.)\n",
    "xc = Complex.conjugate(x)\n",
    "print xc\n",
    "xc = x.conjugate()\n",
    "print xc"
   ]
  },
  {
   "cell_type": "markdown",
   "metadata": {},
   "source": [
    "### Operations"
   ]
  },
  {
   "cell_type": "markdown",
   "metadata": {},
   "source": [
    "Operations are defined using the special methods, for example __ add __ is associated to the *'+'* operator. "
   ]
  },
  {
   "cell_type": "markdown",
   "metadata": {},
   "source": [
    "Let's create now to complex numbers, *x,y*, add then, and compute the module and the phase of the resulting addition."
   ]
  },
  {
   "cell_type": "code",
   "execution_count": 31,
   "metadata": {
    "collapsed": false
   },
   "outputs": [
    {
     "name": "stdout",
     "output_type": "stream",
     "text": [
      "z =  1.41421356237e^0.785398163397\n",
      "abs(z) =  1.41421356237\n",
      "z phase (1/pi) =  0.25\n"
     ]
    }
   ],
   "source": [
    "x = Complex(1.,0)\n",
    "y = Complex(1., math.pi/2.)\n",
    "z = x + y\n",
    "print 'z = ', z\n",
    "print 'abs(z) = ', abs(z)\n",
    "print 'z phase (1/pi) = ', z.phase/math.pi"
   ]
  },
  {
   "cell_type": "markdown",
   "metadata": {},
   "source": [
    "Here are the list of the special methods and the operation of builtin function associated to them (section 3.4): https://docs.python.org/2.7/reference/datamodel.html#new-style-and-classic-classes\n"
   ]
  },
  {
   "cell_type": "markdown",
   "metadata": {},
   "source": [
    "### Serializing the class"
   ]
  },
  {
   "cell_type": "markdown",
   "metadata": {},
   "source": [
    "Two important special methods are __ str __ that serializes the object and converts it into a string, and __ repr __ that does the same but is used with the interpreter to print into the output."
   ]
  },
  {
   "cell_type": "code",
   "execution_count": 32,
   "metadata": {
    "collapsed": false
   },
   "outputs": [
    {
     "name": "stdout",
     "output_type": "stream",
     "text": [
      "1.41421356237e^0.785398163397  is str?  True\n"
     ]
    }
   ],
   "source": [
    "sx = str(z)\n",
    "print sx, ' is str? ', isinstance(sx, str)"
   ]
  },
  {
   "cell_type": "markdown",
   "metadata": {},
   "source": [
    "### Exercises"
   ]
  },
  {
   "cell_type": "markdown",
   "metadata": {
    "collapsed": true
   },
   "source": [
    "*Exercises*:\n",
    "\n",
    "   1) Finish the class *Complex*.\n",
    "    \n",
    "   2) Define the class *Vector* and *Matrix* using python lists and implement some of its methods.\n",
    "    (You have powerful vector and matrix classes defined in one in numpy.array!)\n",
    "    \n",
    "   3) Define a class for a bank account and its movements. Define a class for a bank holding several bank accounts. "
   ]
  },
  {
   "cell_type": "code",
   "execution_count": null,
   "metadata": {
    "collapsed": true
   },
   "outputs": [],
   "source": []
  }
 ],
 "metadata": {
  "anaconda-cloud": {},
  "kernelspec": {
   "display_name": "Python [Root]",
   "language": "python",
   "name": "Python [Root]"
  },
  "language_info": {
   "codemirror_mode": {
    "name": "ipython",
    "version": 2
   },
   "file_extension": ".py",
   "mimetype": "text/x-python",
   "name": "python",
   "nbconvert_exporter": "python",
   "pygments_lexer": "ipython2",
   "version": "2.7.12"
  }
 },
 "nbformat": 4,
 "nbformat_minor": 0
}
